{
  "nbformat": 4,
  "nbformat_minor": 0,
  "metadata": {
    "colab": {
      "provenance": [],
      "authorship_tag": "ABX9TyOdkLJzf1z/rIVq3bxKvsSm",
      "include_colab_link": true
    },
    "kernelspec": {
      "name": "python3",
      "display_name": "Python 3"
    },
    "language_info": {
      "name": "python"
    }
  },
  "cells": [
    {
      "cell_type": "markdown",
      "metadata": {
        "id": "view-in-github",
        "colab_type": "text"
      },
      "source": [
        "<a href=\"https://colab.research.google.com/github/younghooe/younghooe.github.io/blob/main/%EB%B0%B1%EC%A4%80.ipynb\" target=\"_parent\"><img src=\"https://colab.research.google.com/assets/colab-badge.svg\" alt=\"Open In Colab\"/></a>"
      ]
    },
    {
      "cell_type": "code",
      "execution_count": null,
      "metadata": {
        "colab": {
          "base_uri": "https://localhost:8080/"
        },
        "id": "kNalBWI929XB",
        "outputId": "f87f56fc-3f81-4c04-d7b9-06a9c750dff5"
      },
      "outputs": [
        {
          "output_type": "stream",
          "name": "stdout",
          "text": [
            "Hello Word!\n"
          ]
        }
      ],
      "source": [
        "print('Hello Word!')"
      ]
    },
    {
      "cell_type": "code",
      "source": [
        "A, B = input('숫자 두 개를 입력하세요: ').split()\n",
        "A = int(A)\n",
        "B = int(B)\n",
        "\n",
        "print(A+B)"
      ],
      "metadata": {
        "colab": {
          "base_uri": "https://localhost:8080/"
        },
        "id": "ZykGeL_y3DB-",
        "outputId": "812649b9-b998-4263-8256-ab3e54c0483f"
      },
      "execution_count": null,
      "outputs": [
        {
          "output_type": "stream",
          "name": "stdout",
          "text": [
            "숫자 두 개를 입력하세요: 1 13\n",
            "14\n"
          ]
        }
      ]
    },
    {
      "cell_type": "code",
      "source": [
        "A, B = map(int, input().split())\n",
        "print(A+B)"
      ],
      "metadata": {
        "colab": {
          "base_uri": "https://localhost:8080/"
        },
        "id": "T0ILLru34NSh",
        "outputId": "8fcd6d78-19e5-4598-808a-bb504e476a15"
      },
      "execution_count": null,
      "outputs": [
        {
          "output_type": "stream",
          "name": "stdout",
          "text": [
            "4 14\n",
            "18\n"
          ]
        }
      ]
    },
    {
      "cell_type": "code",
      "source": [
        "A, B = input('숫자 두 개를 입력하세요: ').split()\n",
        "\n",
        "A = int(A)\n",
        "B = int(B)\n",
        "\n",
        "print(A-B)"
      ],
      "metadata": {
        "colab": {
          "base_uri": "https://localhost:8080/"
        },
        "id": "tKUuiw1o4jhR",
        "outputId": "cb3967c2-eca5-43e5-b5aa-7a1df606fbbd"
      },
      "execution_count": null,
      "outputs": [
        {
          "output_type": "stream",
          "name": "stdout",
          "text": [
            "숫자 두 개를 입력하세요: 14 3\n",
            "11\n"
          ]
        }
      ]
    },
    {
      "cell_type": "code",
      "source": [
        "A , B = map(int, input().split())\n",
        "print(A - B)"
      ],
      "metadata": {
        "colab": {
          "base_uri": "https://localhost:8080/"
        },
        "id": "08ZY-N4I6505",
        "outputId": "6e0d780d-650d-4388-bd19-fafec995026d"
      },
      "execution_count": null,
      "outputs": [
        {
          "output_type": "stream",
          "name": "stdout",
          "text": [
            "13 32\n",
            "-19\n"
          ]
        }
      ]
    },
    {
      "cell_type": "code",
      "source": [
        "A, B = map(int, input().split())\n",
        "print(A * B)"
      ],
      "metadata": {
        "colab": {
          "base_uri": "https://localhost:8080/"
        },
        "id": "YPr915jr7LCg",
        "outputId": "ad9cdada-8e9a-451c-c0a8-3cbc16e687ae"
      },
      "execution_count": null,
      "outputs": [
        {
          "output_type": "stream",
          "name": "stdout",
          "text": [
            "41 32\n",
            "1312\n"
          ]
        }
      ]
    },
    {
      "cell_type": "code",
      "source": [
        "A, B = map(int, input().split())\n",
        "print(A/B)"
      ],
      "metadata": {
        "colab": {
          "base_uri": "https://localhost:8080/"
        },
        "id": "AGkaFeO48W2G",
        "outputId": "37a8f590-62cd-47cc-ca4f-88f6214f6fdc"
      },
      "execution_count": null,
      "outputs": [
        {
          "output_type": "stream",
          "name": "stdout",
          "text": [
            "3 1\n",
            "3.0\n"
          ]
        }
      ]
    },
    {
      "cell_type": "code",
      "source": [
        "A,B = map(int, input().split())\n",
        "print(A+B, A-B, A*B, A//B, A%B ,sep='\\n')"
      ],
      "metadata": {
        "colab": {
          "base_uri": "https://localhost:8080/"
        },
        "id": "sVgGEyzN8yK7",
        "outputId": "da4934e9-6c15-4c14-e087-ed102ed1a238"
      },
      "execution_count": null,
      "outputs": [
        {
          "output_type": "stream",
          "name": "stdout",
          "text": [
            "7 3\n",
            "10\n",
            "4\n",
            "21\n",
            "2\n",
            "1\n"
          ]
        }
      ]
    },
    {
      "cell_type": "code",
      "source": [
        "id = input()\n",
        "print(id+'??!')"
      ],
      "metadata": {
        "colab": {
          "base_uri": "https://localhost:8080/"
        },
        "id": "Jd_weiA59agu",
        "outputId": "3c1d97d4-c7ef-4de9-a99c-2373b191aa1e"
      },
      "execution_count": null,
      "outputs": [
        {
          "output_type": "stream",
          "name": "stdout",
          "text": [
            "joonas\n",
            "joonas??!\n"
          ]
        }
      ]
    },
    {
      "cell_type": "code",
      "source": [
        "2541 - 1998"
      ],
      "metadata": {
        "colab": {
          "base_uri": "https://localhost:8080/"
        },
        "id": "ar-PLW_vAchL",
        "outputId": "d4d534de-3627-4088-a0c5-d50b24e0bf5d"
      },
      "execution_count": null,
      "outputs": [
        {
          "output_type": "execute_result",
          "data": {
            "text/plain": [
              "543"
            ]
          },
          "metadata": {},
          "execution_count": 27
        }
      ]
    },
    {
      "cell_type": "code",
      "source": [
        "bool = input()\n",
        "bool = int(bool)\n",
        "print(bool - 543)"
      ],
      "metadata": {
        "colab": {
          "base_uri": "https://localhost:8080/"
        },
        "id": "RuG1KyeiA-Fu",
        "outputId": "0a36ef22-6b13-4928-a420-e9f41ba593fe"
      },
      "execution_count": null,
      "outputs": [
        {
          "output_type": "stream",
          "name": "stdout",
          "text": [
            "2541\n",
            "1998\n"
          ]
        }
      ]
    },
    {
      "cell_type": "code",
      "source": [
        "y = int(input())\n",
        "print(y - 543)"
      ],
      "metadata": {
        "colab": {
          "base_uri": "https://localhost:8080/"
        },
        "id": "I_-6lCGmBLMu",
        "outputId": "9ee0782d-9e0a-437b-c3a2-ab2d7a55b61d"
      },
      "execution_count": null,
      "outputs": [
        {
          "output_type": "stream",
          "name": "stdout",
          "text": [
            "2541\n",
            "1998\n"
          ]
        }
      ]
    },
    {
      "cell_type": "code",
      "source": [
        "A,B,C = map(int, input().split())\n",
        "print((A+B)%C, ((A%C) + (B%C))%C, (A*B)%C, ((A%C)*(B%C))%C, sep = '\\n' )"
      ],
      "metadata": {
        "colab": {
          "base_uri": "https://localhost:8080/"
        },
        "id": "e0-ws89NBwmQ",
        "outputId": "5a9246f2-bf1e-4e3d-808e-5d3ee2e61a68"
      },
      "execution_count": null,
      "outputs": [
        {
          "output_type": "stream",
          "name": "stdout",
          "text": [
            "5 8 4\n",
            "1\n",
            "1\n",
            "0\n",
            "0\n"
          ]
        }
      ]
    },
    {
      "cell_type": "code",
      "source": [
        "A = int(input())\n",
        "B = int(input())\n",
        "c = B%10\n",
        "d = B%100 //10\n",
        "e = B//100\n",
        "print((A*c), (A*d), (A*e), (A*B), sep='\\n')"
      ],
      "metadata": {
        "id": "tpDtM8gJCTPy",
        "colab": {
          "base_uri": "https://localhost:8080/"
        },
        "outputId": "3f69994e-774e-4eb3-c8eb-99673650ef69"
      },
      "execution_count": null,
      "outputs": [
        {
          "output_type": "stream",
          "name": "stdout",
          "text": [
            "472\n",
            "385\n",
            "2360\n",
            "3776\n",
            "1416\n",
            "181720\n"
          ]
        }
      ]
    },
    {
      "cell_type": "code",
      "source": [
        "A,B,C = map(int, input().split())\n",
        "print(A+B+C)"
      ],
      "metadata": {
        "colab": {
          "base_uri": "https://localhost:8080/"
        },
        "id": "U2UIf-Onb_wb",
        "outputId": "3d00742f-b70e-4b13-f5e5-b5aada8b66ba"
      },
      "execution_count": null,
      "outputs": [
        {
          "output_type": "stream",
          "name": "stdout",
          "text": [
            "77 77 7777\n",
            "7931\n"
          ]
        }
      ]
    },
    {
      "cell_type": "code",
      "source": [
        "print(\"\\\\    /\\\\\")\n",
        "print(\" )  ( ')\")\n",
        "print('(  /  )')\n",
        "print(' \\\\(__)|')\n",
        "#오늘 배운점: 역슬래시를 출력할 때는 두개를 연속해서 써야한다."
      ],
      "metadata": {
        "colab": {
          "base_uri": "https://localhost:8080/"
        },
        "id": "n3g4e_bVfbm1",
        "outputId": "51bc6d0c-fa90-4072-93db-e16bbf4fb86c"
      },
      "execution_count": null,
      "outputs": [
        {
          "output_type": "stream",
          "name": "stdout",
          "text": [
            "\\    /\\\n",
            " )  ( ')\n",
            "(  /  )\n",
            " \\(__)|\n"
          ]
        }
      ]
    },
    {
      "cell_type": "code",
      "source": [
        "print(\"|\\\\_/|\")\n",
        "print(\"|q p|   /}\")\n",
        "print('( 0 )\"\"\"\\\\')\n",
        "print('|\"^\"`    |')\n",
        "print('||_/=\\\\\\\\__|')"
      ],
      "metadata": {
        "colab": {
          "base_uri": "https://localhost:8080/"
        },
        "id": "-HZ_Ggc_fzuG",
        "outputId": "c565a739-6b1f-4ef2-fd7a-b2995b95baf0"
      },
      "execution_count": null,
      "outputs": [
        {
          "output_type": "stream",
          "name": "stdout",
          "text": [
            "|\\_/|\n",
            "|q p|   /}\n",
            "( 0 )\"\"\"\\\n",
            "|\"^\"`    |\n",
            "||_/=\\\\__|\n"
          ]
        }
      ]
    },
    {
      "cell_type": "code",
      "source": [
        "A, B = map(int, input().split())\n",
        "if A > B:\n",
        "  print('>')\n",
        "elif A < B:\n",
        "  print('<')\n",
        "else:\n",
        "  print('==')"
      ],
      "metadata": {
        "id": "mPE9DEuhjBjD",
        "colab": {
          "base_uri": "https://localhost:8080/"
        },
        "outputId": "7eca15f8-d3f3-4fad-c10f-8297660f837e"
      },
      "execution_count": null,
      "outputs": [
        {
          "output_type": "stream",
          "name": "stdout",
          "text": [
            "5 5\n",
            "==\n"
          ]
        }
      ]
    },
    {
      "cell_type": "code",
      "source": [
        "score = int(input())\n",
        "\n",
        "if score >=90 and score <=100:\n",
        "  print('A')\n",
        "elif score >= 80 and score < 90:\n",
        "  print('B')\n",
        "elif score >= 70 and score < 80:\n",
        "  print('C')\n",
        "elif score >= 60 and score <70:\n",
        "  print('D')\n",
        "else:\n",
        "  print('F')"
      ],
      "metadata": {
        "colab": {
          "base_uri": "https://localhost:8080/"
        },
        "id": "IaiGfWICq7MZ",
        "outputId": "0e64daa3-dc03-41de-a501-70ec37a707c6"
      },
      "execution_count": null,
      "outputs": [
        {
          "output_type": "stream",
          "name": "stdout",
          "text": [
            "65\n",
            "D\n"
          ]
        }
      ]
    },
    {
      "cell_type": "code",
      "source": [
        "year = int(input())\n",
        "\n",
        "if year%4==0 and year%100 != 0:\n",
        "  print('1')\n",
        "elif year%400 ==0:\n",
        "  print('1')\n",
        "else:\n",
        "  print('0')"
      ],
      "metadata": {
        "colab": {
          "base_uri": "https://localhost:8080/"
        },
        "id": "J-1A98spu9t2",
        "outputId": "cfeb67fb-25c6-4e22-e32d-86c05eea39a3"
      },
      "execution_count": null,
      "outputs": [
        {
          "output_type": "stream",
          "name": "stdout",
          "text": [
            "1999\n",
            "0\n"
          ]
        }
      ]
    },
    {
      "cell_type": "code",
      "source": [
        "x = int(input())\n",
        "y = int(input())\n",
        "\n",
        "if x > 0 and y > 0:\n",
        "  print('1')\n",
        "elif x < 0 and y > 0:\n",
        "  print('2')\n",
        "elif x < 0 and y < 0:\n",
        "  print('3')\n",
        "else:\n",
        "  print('4')"
      ],
      "metadata": {
        "colab": {
          "base_uri": "https://localhost:8080/"
        },
        "id": "-q_iVfddwbbh",
        "outputId": "9191a450-33d6-4f9c-e5aa-8ffe5792bea4"
      },
      "execution_count": null,
      "outputs": [
        {
          "output_type": "stream",
          "name": "stdout",
          "text": [
            "9\n",
            "-13\n",
            "4\n"
          ]
        }
      ]
    },
    {
      "cell_type": "code",
      "source": [
        "H, M = map(int, input().split())\n",
        "if M >= 45:\n",
        "  m = M-45\n",
        "  print(H, m)\n",
        "else:\n",
        "  if H == 0:\n",
        "    h = 23\n",
        "    m = (M + 60)-45\n",
        "  else:\n",
        "    h = H -1\n",
        "    m = (M + 60)-45\n",
        "  print(h, m)"
      ],
      "metadata": {
        "colab": {
          "base_uri": "https://localhost:8080/"
        },
        "id": "lcI3UqQXynwt",
        "outputId": "3c56cb58-dfaa-471e-b520-fa03bfa9161a"
      },
      "execution_count": null,
      "outputs": [
        {
          "output_type": "stream",
          "name": "stdout",
          "text": [
            "23 40\n",
            "22 55\n"
          ]
        }
      ]
    },
    {
      "cell_type": "code",
      "source": [
        "H, M = map(int, input().split())\n",
        "if M >= 45:\n",
        "  print(H, M-45)\n",
        "else:\n",
        "  if H == 0:\n",
        "    H = 23\n",
        "    M += 60\n",
        "    print(H,M-45)\n",
        "  else:\n",
        "    H -= 1\n",
        "    M += 60\n",
        "    print(H, M-45)"
      ],
      "metadata": {
        "colab": {
          "base_uri": "https://localhost:8080/"
        },
        "id": "mo6NnzSt1dIb",
        "outputId": "546d2f28-7328-4f1f-9df0-75fa8a8400f4"
      },
      "execution_count": null,
      "outputs": [
        {
          "output_type": "stream",
          "name": "stdout",
          "text": [
            "23 40\n",
            "22 55\n"
          ]
        }
      ]
    },
    {
      "cell_type": "code",
      "source": [
        "A, B = map(int,input().split())\n",
        "C = int(input())\n",
        "\n",
        "cook_h = C//60\n",
        "cook_m = C%60\n",
        "\n",
        "if B + cook_m >= 60:\n",
        "  h = A + cook_h + 1\n",
        "  m = (B + cook_m)%60\n",
        "  print(h,m)\n",
        "else:\n",
        "  h = A + cook_h\n",
        "  m = B + cook_m\n",
        "  print()"
      ],
      "metadata": {
        "colab": {
          "base_uri": "https://localhost:8080/"
        },
        "id": "0dBFfaz65N8i",
        "outputId": "8143089c-f354-43ca-9fad-a1ce29f1fb8b"
      },
      "execution_count": null,
      "outputs": [
        {
          "output_type": "stream",
          "name": "stdout",
          "text": [
            "14 30\n",
            "20\n",
            "14 10\n"
          ]
        }
      ]
    },
    {
      "cell_type": "code",
      "source": [
        "A, B = map(int,input().split())\n",
        "C = int(input())\n",
        "\n",
        "cook_h = C//60\n",
        "cook_m = C%60\n",
        "\n",
        "if B + cook_m >= 60:\n",
        "  h = A + cook_h + 1\n",
        "  m = (B + cook_m)%60\n",
        "  if h >=24:\n",
        "    print(h-24,m)\n",
        "  else:\n",
        "    print(h, m)\n",
        "else:\n",
        "  h = A + cook_h\n",
        "  m = B + cook_m\n",
        "  if h >= 24:\n",
        "    print(h-24,m)\n",
        "  else:\n",
        "    print(h,m)"
      ],
      "metadata": {
        "colab": {
          "base_uri": "https://localhost:8080/"
        },
        "id": "8oCTi16e-P1s",
        "outputId": "2c9a136c-8c0e-404e-abe8-e9ec6cdfff93"
      },
      "execution_count": null,
      "outputs": [
        {
          "output_type": "stream",
          "name": "stdout",
          "text": [
            "23 48\n",
            "25\n",
            "0 13\n"
          ]
        }
      ]
    },
    {
      "cell_type": "code",
      "source": [
        "A,B,C = map(int, input().split())\n",
        "\n",
        "if A == B == C:\n",
        "  print(10000+A*1000)\n",
        "elif A == B:\n",
        "  print(1000 + A*100)\n",
        "elif A == C:\n",
        "  print(1000 + A*100)\n",
        "elif B == C:\n",
        "  print(1000 + B*100)\n",
        "elif A != B != C:\n",
        "  M = [A,B,C]\n",
        "  print(max(M)*100)"
      ],
      "metadata": {
        "id": "s3-eSUAECykr",
        "colab": {
          "base_uri": "https://localhost:8080/"
        },
        "outputId": "6b7600cb-943b-4c6a-eeb2-cf27777471c4"
      },
      "execution_count": null,
      "outputs": [
        {
          "output_type": "stream",
          "name": "stdout",
          "text": [
            "6 2 5\n",
            "600\n"
          ]
        }
      ]
    },
    {
      "cell_type": "code",
      "source": [
        "N = int(input())\n",
        "\n",
        "print(f'{2} * 1 =',N*1)\n",
        "print(f'{2} * 2 =',N*2)\n",
        "print(f'{2} * 3 =',N*3)\n",
        "print(f'{2} * 4 =',N*4)\n",
        "print(f'{2} * 5 =',N*5)\n",
        "print(f'{2} * 6 =',N*6)\n",
        "print(f'{2} * 7 =',N*7)\n",
        "print(f'{2} * 8 =',N*8)\n",
        "print(f'{2} * 9 =',N*9)"
      ],
      "metadata": {
        "colab": {
          "base_uri": "https://localhost:8080/"
        },
        "id": "xXLV-lldh6f0",
        "outputId": "26a11402-db55-40a2-a485-a79882a23973"
      },
      "execution_count": null,
      "outputs": [
        {
          "output_type": "stream",
          "name": "stdout",
          "text": [
            "2\n",
            "2 * 1 = 2\n",
            "2 * 2 = 4\n",
            "2 * 3 = 6\n",
            "2 * 4 = 8\n",
            "2 * 5 = 10\n",
            "2 * 6 = 12\n",
            "2 * 7 = 14\n",
            "2 * 8 = 16\n",
            "2 * 9 = 18\n"
          ]
        }
      ]
    },
    {
      "cell_type": "code",
      "source": [
        "N = int(input())\n",
        "\n",
        "for i in range(1,10):\n",
        "  print(f'{N} * {i} =', N*i)"
      ],
      "metadata": {
        "colab": {
          "base_uri": "https://localhost:8080/"
        },
        "id": "bVZYx_dxiY4f",
        "outputId": "74ced3f5-e51d-4a08-bcdd-b425e5a2c1f2"
      },
      "execution_count": null,
      "outputs": [
        {
          "output_type": "stream",
          "name": "stdout",
          "text": [
            "2\n",
            "2 * 1 = 2\n",
            "2 * 2 = 4\n",
            "2 * 3 = 6\n",
            "2 * 4 = 8\n",
            "2 * 5 = 10\n",
            "2 * 6 = 12\n",
            "2 * 7 = 14\n",
            "2 * 8 = 16\n",
            "2 * 9 = 18\n"
          ]
        }
      ]
    },
    {
      "cell_type": "code",
      "source": [
        "T = int(input())\n",
        "i = 0\n",
        "\n",
        "while i < T:\n",
        "  i += 1\n",
        "  A,B = map(int,input().split())\n",
        "  print(A+B)"
      ],
      "metadata": {
        "colab": {
          "base_uri": "https://localhost:8080/"
        },
        "id": "vKamnmJYjRKN",
        "outputId": "3816ce65-9a30-4bb3-9552-87c1962b4c1b"
      },
      "execution_count": null,
      "outputs": [
        {
          "output_type": "stream",
          "name": "stdout",
          "text": [
            "5\n",
            "1 1\n",
            "2\n",
            "2 3\n",
            "5\n",
            "3 4\n",
            "7\n",
            "9 8\n",
            "17\n",
            "5 2\n",
            "7\n"
          ]
        }
      ]
    },
    {
      "cell_type": "code",
      "source": [
        "T = int(input())\n",
        "\n",
        "for i in range(1, T+1):\n",
        "  A,B = map(int,input().split())\n",
        "  print(A+B)"
      ],
      "metadata": {
        "colab": {
          "base_uri": "https://localhost:8080/"
        },
        "id": "uhYoMaO-r-Sz",
        "outputId": "90a7b22e-0ef8-4fd7-8dfb-b61256bfa589"
      },
      "execution_count": null,
      "outputs": [
        {
          "output_type": "stream",
          "name": "stdout",
          "text": [
            "5\n",
            "1 1\n",
            "2\n",
            "2 3\n",
            "5\n",
            "3 4\n",
            "7\n",
            "9 8\n",
            "17\n",
            "5 2\n",
            "7\n"
          ]
        }
      ]
    },
    {
      "cell_type": "code",
      "source": [
        "T = int(input())\n",
        "\n",
        "# range 함수 특성상 앞의 0을 생략가능\n",
        "for i in range(T):\n",
        "  A,B = map(int,input().split())\n",
        "  print(A+B)"
      ],
      "metadata": {
        "colab": {
          "base_uri": "https://localhost:8080/"
        },
        "id": "yXnmt_D0t3vE",
        "outputId": "987368a8-bde6-4451-84f6-0705dfd28af5"
      },
      "execution_count": null,
      "outputs": [
        {
          "output_type": "stream",
          "name": "stdout",
          "text": [
            "5\n",
            "1 1\n",
            "2\n",
            "2 3\n",
            "5\n",
            "3 4\n",
            "7\n",
            "9 8\n",
            "17\n",
            "5 2\n",
            "7\n"
          ]
        }
      ]
    },
    {
      "cell_type": "code",
      "source": [
        "n = int(input())\n",
        "\n",
        "for i in range(1, n+1):\n",
        "  i += i\n",
        "print(i)"
      ],
      "metadata": {
        "colab": {
          "base_uri": "https://localhost:8080/"
        },
        "id": "XS1J0XkVYEmC",
        "outputId": "a3326f29-fc5f-425a-dffc-6fadcd4bbce6"
      },
      "execution_count": null,
      "outputs": [
        {
          "output_type": "stream",
          "name": "stdout",
          "text": [
            "4\n",
            "8\n"
          ]
        }
      ]
    },
    {
      "cell_type": "code",
      "source": [
        "n = int(input())\n",
        "\n",
        "print((n+1)*n//2)"
      ],
      "metadata": {
        "colab": {
          "base_uri": "https://localhost:8080/"
        },
        "id": "ftkAMTNfZgT-",
        "outputId": "61bb7954-013d-4dbb-e7a6-649e569a85cf"
      },
      "execution_count": null,
      "outputs": [
        {
          "output_type": "stream",
          "name": "stdout",
          "text": [
            "5\n",
            "15\n"
          ]
        }
      ]
    },
    {
      "cell_type": "code",
      "source": [
        "n = int(input())\n",
        "A = 0\n",
        "\n",
        "for i in range(1, n+1):\n",
        "  A += i\n",
        "print(A)"
      ],
      "metadata": {
        "id": "k77ZVJsPanq0"
      },
      "execution_count": null,
      "outputs": []
    },
    {
      "cell_type": "code",
      "source": [
        "X = int(input())\n",
        "N = int(input())\n",
        "cost = 0\n",
        "\n",
        "for i in range(N):\n",
        "  a ,b = map(int,input().split())\n",
        "  cost += a*b\n",
        "\n",
        "if X == cost:\n",
        "  print('Yes')\n",
        "else:\n",
        "  print('No')"
      ],
      "metadata": {
        "colab": {
          "base_uri": "https://localhost:8080/"
        },
        "id": "2YERkTJdeTV9",
        "outputId": "444cd165-df37-4723-8690-52cc5aa3908a"
      },
      "execution_count": null,
      "outputs": [
        {
          "output_type": "stream",
          "name": "stdout",
          "text": [
            "250000\n",
            "4\n",
            "20000 5\n",
            "30000 2\n",
            "10000 6\n",
            "5000 8\n",
            "No\n"
          ]
        }
      ]
    },
    {
      "cell_type": "code",
      "source": [
        "print('f' * 4)"
      ],
      "metadata": {
        "colab": {
          "base_uri": "https://localhost:8080/"
        },
        "id": "G9oWHYalkapr",
        "outputId": "16f559b5-dacc-4518-dcbd-2324a2f38dc3"
      },
      "execution_count": null,
      "outputs": [
        {
          "output_type": "stream",
          "name": "stdout",
          "text": [
            "ffff\n"
          ]
        }
      ]
    },
    {
      "cell_type": "code",
      "source": [
        "N = int(input())\n",
        "\n",
        "print((N//4)*'long '+'int')"
      ],
      "metadata": {
        "colab": {
          "base_uri": "https://localhost:8080/"
        },
        "id": "-Zf-T4pUkbQ1",
        "outputId": "26c90807-2b7c-4866-d621-144d7787fe9b"
      },
      "execution_count": null,
      "outputs": [
        {
          "output_type": "stream",
          "name": "stdout",
          "text": [
            "20\n",
            "long long long long long int\n"
          ]
        }
      ]
    },
    {
      "cell_type": "code",
      "source": [
        "import sys\n",
        "\n",
        "T= int(sys.stdin.readline())\n",
        "for i in range(1,T+1):\n",
        "  A,B = map(int, sys.stdin.readline().split())\n",
        "  print(A+B)"
      ],
      "metadata": {
        "id": "QwnjKhCQl-dQ"
      },
      "execution_count": null,
      "outputs": []
    },
    {
      "cell_type": "code",
      "source": [
        "import sys\n",
        "\n",
        "T = int(sys.stdin.readline())\n",
        "\n",
        "for i in range(1,T+1):\n",
        "  A,B = map(int,sys.stdin.readline().split())\n",
        "  print(f'Case #{i}:',A+B)"
      ],
      "metadata": {
        "id": "OnPF8ufG4W8w"
      },
      "execution_count": null,
      "outputs": []
    },
    {
      "cell_type": "code",
      "source": [
        "import sys\n",
        "\n",
        "T = int(sys.stdin.readline())\n",
        "\n",
        "for i in range(1,T+1):\n",
        "  A,B = map(int,sys.stdin.readline().split())\n",
        "  C= A+B\n",
        "  print(f'Case #{i}: {A} + {B} = {C}')"
      ],
      "metadata": {
        "id": "Db5FpERp7_bn"
      },
      "execution_count": null,
      "outputs": []
    },
    {
      "cell_type": "code",
      "source": [
        "import sys\n",
        "\n",
        "N = int(sys.stdin.readline())\n",
        "\n",
        "for i in range(1, N+1):\n",
        "  print('*'*i)"
      ],
      "metadata": {
        "id": "M_rAnYEs9ZzM"
      },
      "execution_count": null,
      "outputs": []
    },
    {
      "cell_type": "code",
      "source": [
        "N = int(input())\n",
        "\n",
        "for i in range(1, N+1):\n",
        "  print('*'*i)"
      ],
      "metadata": {
        "colab": {
          "base_uri": "https://localhost:8080/"
        },
        "id": "6jVfIQzY-GFS",
        "outputId": "f4997405-36f8-4256-a98d-5cf9209b11c9"
      },
      "execution_count": null,
      "outputs": [
        {
          "output_type": "stream",
          "name": "stdout",
          "text": [
            "5\n",
            "*\n",
            "**\n",
            "***\n",
            "****\n",
            "*****\n"
          ]
        }
      ]
    },
    {
      "cell_type": "code",
      "source": [
        "N = int(input())\n",
        "for i in range(1, N+1):\n",
        "  print(('*'*i).rjust(N))\n"
      ],
      "metadata": {
        "id": "8GH8jzCN96kW",
        "colab": {
          "base_uri": "https://localhost:8080/"
        },
        "outputId": "55eabfde-1a65-49ea-b6df-5c163e3c176f"
      },
      "execution_count": null,
      "outputs": [
        {
          "output_type": "stream",
          "name": "stdout",
          "text": [
            "5\n",
            "    *\n",
            "   **\n",
            "  ***\n",
            " ****\n",
            "*****\n"
          ]
        }
      ]
    },
    {
      "cell_type": "code",
      "source": [
        "while True :\n",
        "  A,B = map(int,input().split())\n",
        "  if A !=0 and B !=0:\n",
        "    print(A+B)\n",
        "  else:\n",
        "    break"
      ],
      "metadata": {
        "colab": {
          "base_uri": "https://localhost:8080/"
        },
        "id": "_rkfQsFTkSAg",
        "outputId": "293cf25f-1573-4338-901f-352f73c1b56c"
      },
      "execution_count": null,
      "outputs": [
        {
          "name": "stdout",
          "output_type": "stream",
          "text": [
            "1 1\n",
            "2\n",
            "2 3\n",
            "5\n",
            "3 4\n",
            "7\n",
            "9 8\n",
            "17\n",
            "5 2\n",
            "7\n",
            "0 0\n"
          ]
        }
      ]
    },
    {
      "cell_type": "code",
      "source": [
        "while True:\n",
        "  try:\n",
        "    A,B = map(int, input().split())\n",
        "    print(A+B)\n",
        "  except EOFError:\n",
        "    break"
      ],
      "metadata": {
        "id": "UiA0VgMgnN9F",
        "colab": {
          "base_uri": "https://localhost:8080/",
          "height": 423
        },
        "outputId": "8f2b3ad3-aabc-41fb-ac83-31960f619ca3"
      },
      "execution_count": null,
      "outputs": [
        {
          "name": "stdout",
          "output_type": "stream",
          "text": [
            "1 1\n",
            "2\n",
            "2 3\n",
            "5\n",
            "3 4\n",
            "7\n",
            "9 8\n",
            "17\n",
            "5 2\n",
            "7\n",
            "\n"
          ]
        },
        {
          "output_type": "error",
          "ename": "ValueError",
          "evalue": "not enough values to unpack (expected 2, got 0)",
          "traceback": [
            "\u001b[0;31m---------------------------------------------------------------------------\u001b[0m",
            "\u001b[0;31mValueError\u001b[0m                                Traceback (most recent call last)",
            "\u001b[0;32m<ipython-input-2-f7ec5a2b4e4d>\u001b[0m in \u001b[0;36m<cell line: 1>\u001b[0;34m()\u001b[0m\n\u001b[1;32m      1\u001b[0m \u001b[0;32mwhile\u001b[0m \u001b[0;32mTrue\u001b[0m\u001b[0;34m:\u001b[0m\u001b[0;34m\u001b[0m\u001b[0;34m\u001b[0m\u001b[0m\n\u001b[1;32m      2\u001b[0m   \u001b[0;32mtry\u001b[0m\u001b[0;34m:\u001b[0m\u001b[0;34m\u001b[0m\u001b[0;34m\u001b[0m\u001b[0m\n\u001b[0;32m----> 3\u001b[0;31m     \u001b[0mA\u001b[0m\u001b[0;34m,\u001b[0m\u001b[0mB\u001b[0m \u001b[0;34m=\u001b[0m \u001b[0mmap\u001b[0m\u001b[0;34m(\u001b[0m\u001b[0mint\u001b[0m\u001b[0;34m,\u001b[0m \u001b[0minput\u001b[0m\u001b[0;34m(\u001b[0m\u001b[0;34m)\u001b[0m\u001b[0;34m.\u001b[0m\u001b[0msplit\u001b[0m\u001b[0;34m(\u001b[0m\u001b[0;34m)\u001b[0m\u001b[0;34m)\u001b[0m\u001b[0;34m\u001b[0m\u001b[0;34m\u001b[0m\u001b[0m\n\u001b[0m\u001b[1;32m      4\u001b[0m     \u001b[0mprint\u001b[0m\u001b[0;34m(\u001b[0m\u001b[0mA\u001b[0m\u001b[0;34m+\u001b[0m\u001b[0mB\u001b[0m\u001b[0;34m)\u001b[0m\u001b[0;34m\u001b[0m\u001b[0;34m\u001b[0m\u001b[0m\n\u001b[1;32m      5\u001b[0m   \u001b[0;32mexcept\u001b[0m \u001b[0mEOFError\u001b[0m\u001b[0;34m:\u001b[0m\u001b[0;34m\u001b[0m\u001b[0;34m\u001b[0m\u001b[0m\n",
            "\u001b[0;31mValueError\u001b[0m: not enough values to unpack (expected 2, got 0)"
          ]
        }
      ]
    },
    {
      "cell_type": "code",
      "source": [
        "while True:\n",
        "  try:\n",
        "    A,B = map(int, input().split())\n",
        "  except ValueError:\n",
        "    break\n",
        "  print(A+B)"
      ],
      "metadata": {
        "colab": {
          "base_uri": "https://localhost:8080/",
          "height": 423
        },
        "id": "TURvlu_lsNrS",
        "outputId": "0e563bde-4b39-4d9f-8747-bb6187c34711"
      },
      "execution_count": null,
      "outputs": [
        {
          "name": "stdout",
          "output_type": "stream",
          "text": [
            "1 1\n",
            "2\n",
            "2 3\n",
            "5\n",
            "3 4\n",
            "7\n",
            "9 8\n",
            "17\n",
            "5 2\n",
            "7\n",
            "\n"
          ]
        },
        {
          "output_type": "error",
          "ename": "ValueError",
          "evalue": "not enough values to unpack (expected 2, got 0)",
          "traceback": [
            "\u001b[0;31m---------------------------------------------------------------------------\u001b[0m",
            "\u001b[0;31mValueError\u001b[0m                                Traceback (most recent call last)",
            "\u001b[0;32m<ipython-input-4-562115d3477e>\u001b[0m in \u001b[0;36m<cell line: 1>\u001b[0;34m()\u001b[0m\n\u001b[1;32m      1\u001b[0m \u001b[0;32mwhile\u001b[0m \u001b[0;32mTrue\u001b[0m\u001b[0;34m:\u001b[0m\u001b[0;34m\u001b[0m\u001b[0;34m\u001b[0m\u001b[0m\n\u001b[1;32m      2\u001b[0m   \u001b[0;32mtry\u001b[0m\u001b[0;34m:\u001b[0m\u001b[0;34m\u001b[0m\u001b[0;34m\u001b[0m\u001b[0m\n\u001b[0;32m----> 3\u001b[0;31m     \u001b[0mA\u001b[0m\u001b[0;34m,\u001b[0m\u001b[0mB\u001b[0m \u001b[0;34m=\u001b[0m \u001b[0mmap\u001b[0m\u001b[0;34m(\u001b[0m\u001b[0mint\u001b[0m\u001b[0;34m,\u001b[0m \u001b[0minput\u001b[0m\u001b[0;34m(\u001b[0m\u001b[0;34m)\u001b[0m\u001b[0;34m.\u001b[0m\u001b[0msplit\u001b[0m\u001b[0;34m(\u001b[0m\u001b[0;34m)\u001b[0m\u001b[0;34m)\u001b[0m\u001b[0;34m\u001b[0m\u001b[0;34m\u001b[0m\u001b[0m\n\u001b[0m\u001b[1;32m      4\u001b[0m   \u001b[0;32mexcept\u001b[0m \u001b[0mEOFError\u001b[0m\u001b[0;34m:\u001b[0m\u001b[0;34m\u001b[0m\u001b[0;34m\u001b[0m\u001b[0m\n\u001b[1;32m      5\u001b[0m     \u001b[0;32mbreak\u001b[0m\u001b[0;34m\u001b[0m\u001b[0;34m\u001b[0m\u001b[0m\n",
            "\u001b[0;31mValueError\u001b[0m: not enough values to unpack (expected 2, got 0)"
          ]
        }
      ]
    },
    {
      "cell_type": "markdown",
      "source": [
        "map이 반복문의 역할을 하는 것 같아 map에 대해서 자세히 알아봄\n",
        "\n",
        "결론: 맞음\n",
        "map이 반복문보다 코드가 더 간결하고, 메모리 사용등을 아껴 효율적임.\n",
        "속도도 빠름 C로 구현되어 있어서\n",
        "\n",
        "✅ map 함수 동작 원리\n",
        "map() 함수의 동작 원리는 다음과 같습니다.\n",
        "\n",
        "map() 함수가 호출되면, 입력으로 전달된 function 함수와 iterable 객체들을 파라미터로 받습니다.\n",
        "map() 함수는 가장 짧은 길이를 가진 iterable 객체의 길이만큼 function 함수를 반복적으로 적용합니다.\n",
        "function 함수는 각 iterable 객체에서 해당하는 인덱스의 요소들을 인자로 받아 처리합니다.\n",
        "function 함수의 실행 결과는 새로운 이터레이터 객체에 저장됩니다.\n",
        "map() 함수가 반환하는 값은 iterator 객체입니다.\n",
        "즉, map() 함수는 입력된 iterable 객체들의 각 요소를 하나씩 가져와 function 함수에 적용하고, 그 결과를 새로운 iterator 반환합니다. map() 함수는 generator 객체를 반환하며, iterator와 비슷한 역할을 합니다.\n",
        "\n",
        " ✅ map 함수의 특징\n",
        "map 함수의 특징을 몇 가지 정리해보았습니다.\n",
        "\n",
        "\n",
        "\n",
        "지연평가(lazy evaluation) 방식: map() 함수는 lazy evaluation 방식을 사용합니다. lazy evaluation이란 필요한 시점까지 연산을 늦추는 방식으로, 불필요한 연산을 최소화하여 성능을 향상시키는 방법입니다. 입력으로 받은 iterable 객체를 순회하면서 각 요소에 대해 함수를 적용하여 새로운 iterable 객체를 생성하지만, 이 과정에서 실제로 변환된 결과값들이 생성되는 것이 아니라, 필요할 때까지 기다리는 것입니다. 이런 방식으로 인해 변환된 결과값이 모두 메모리에 저장되지 않고 부분만 계산하여 처리할 수 있기에 불필요한 메모리 사용을 줄일 수 있습니다.\n",
        "간결성: map() 함수를 이용하면 반복문을 작성하지 않아도, 한 줄의 코드로 여러 개의 리스트를 동시에 처리할 수 있습니다.\n",
        "가독성: map() 함수를 이용하면, 코드의 가독성을 높일 수 있습니다.\n",
        "성능: map() 함수는 내부적으로 C로 구현되어 있으므로, 파이썬 반복문보다 빠르게 처리할 수 있습니다.\n",
        "메모리 사용량: map() 함수는 새로운 리스트를 생성하지 않고, iterator 객체를 반환하므로, 메모리 사용량을 최소화할 수 있습니다. 하지만, 매우 큰 이터레이터 객체를 처리할 경우, 메모리 사용량이 매우 높아질 수 있습니다.\n",
        "제약사항: map() 함수는 입력된 모든 이터레이터 객체의 길이가 같아야 하므로, 이러한 제약 사항을 고려하여 사용해야 합니다.\n",
        "\n",
        " 설명이 매우 잘되있음"
      ],
      "metadata": {
        "id": "rO7IbmsX8Vb_"
      }
    },
    {
      "cell_type": "code",
      "source": [
        "N = int(input())\n",
        "j = list(map(int, input().split()))\n",
        "v = int(input())\n",
        "\n",
        "print(j.count(v))"
      ],
      "metadata": {
        "id": "T2SQKlW-5NA3",
        "colab": {
          "base_uri": "https://localhost:8080/"
        },
        "outputId": "94570722-4ec6-4868-eb52-d28831580bb1"
      },
      "execution_count": null,
      "outputs": [
        {
          "output_type": "stream",
          "name": "stdout",
          "text": [
            "11\n",
            "1 4 1 2 4 2 4 2 3 4 4\n",
            "5\n",
            "0\n"
          ]
        }
      ]
    },
    {
      "cell_type": "code",
      "source": [
        "# 백준 10807\n",
        "N = int(input())\n",
        "j = list(map(int, input().split()))\n",
        "V = int(input())\n",
        "\n",
        "print(j.count(V))"
      ],
      "metadata": {
        "colab": {
          "base_uri": "https://localhost:8080/"
        },
        "id": "xZ7QXwoFrNyH",
        "outputId": "143998ea-a94c-4d4e-9abd-c11835086b7d"
      },
      "execution_count": null,
      "outputs": [
        {
          "output_type": "stream",
          "name": "stdout",
          "text": [
            "11\n",
            "1 4 1 2 4 2 4 2 3 4 4\n",
            "2\n",
            "3\n"
          ]
        }
      ]
    },
    {
      "cell_type": "code",
      "source": [
        "# 백준 10807\n",
        "# 내가 봤을 때 백준이 원한 답은 이게 아니었을까\n",
        "\n",
        "N = int(input())\n",
        "j = list(map(int, input().split()))\n",
        "V = int(input())\n",
        "answer = 0\n",
        "\n",
        "for i in range(N) :\n",
        "  if j[i] == V :\n",
        "    answer += 1\n",
        "\n",
        "print(answer)"
      ],
      "metadata": {
        "colab": {
          "base_uri": "https://localhost:8080/"
        },
        "id": "m1VI2mpbrNz_",
        "outputId": "9e244a3d-39c0-44aa-c032-8733be35c24d"
      },
      "execution_count": null,
      "outputs": [
        {
          "output_type": "stream",
          "name": "stdout",
          "text": [
            "11\n",
            "1 4 1 2 4 2 4 2 3 4 4\n",
            "2\n",
            "3\n"
          ]
        }
      ]
    },
    {
      "cell_type": "code",
      "source": [
        "N, X = map(int, input().split())\n",
        "A = list(map(int, input().split()))\n",
        "answer = []\n",
        "\n",
        "for i in range(N):\n",
        "  if i < X:\n",
        "    answer.append(i)\n",
        "\n",
        "print(answer)"
      ],
      "metadata": {
        "colab": {
          "base_uri": "https://localhost:8080/"
        },
        "id": "GQtnR286CpYC",
        "outputId": "4d5966b4-50e7-4500-e39c-9c76ec328f35"
      },
      "execution_count": null,
      "outputs": [
        {
          "output_type": "stream",
          "name": "stdout",
          "text": [
            "10 5\n",
            "1 10 4 9 2 3 8 5 7 6\n",
            "[1, 4, 2, 3]\n"
          ]
        }
      ]
    },
    {
      "cell_type": "code",
      "source": [
        "N, X = map(int, input().split())\n",
        "A = list(map(int, input().split()))\n",
        "answer = []\n",
        "\n",
        "for i in range(N):\n",
        "  if A[i] < X:\n",
        "    answer.append(A[i])\n",
        "\n",
        "print(answer)"
      ],
      "metadata": {
        "colab": {
          "base_uri": "https://localhost:8080/"
        },
        "id": "jPv0AFckMsf-",
        "outputId": "89a9e3bf-ae07-4b36-d981-5015c9db1634"
      },
      "execution_count": null,
      "outputs": [
        {
          "output_type": "stream",
          "name": "stdout",
          "text": [
            "10 5\n",
            "1 10 4 9 2 3 8 5 7 6\n",
            "[1, 4, 2, 3]\n"
          ]
        }
      ]
    },
    {
      "cell_type": "code",
      "source": [
        "N, X = map(int, input().split())\n",
        "A = list(map(int,input().split()))\n",
        "\n",
        "for i in range(N):\n",
        "  if A[i] < X :\n",
        "    print(A[i], end =\" \")"
      ],
      "metadata": {
        "id": "bF7fdbsKPWFy",
        "colab": {
          "base_uri": "https://localhost:8080/"
        },
        "outputId": "e560693e-b939-4240-c50f-de6dfa3239ab"
      },
      "execution_count": null,
      "outputs": [
        {
          "output_type": "stream",
          "name": "stdout",
          "text": [
            "10 5\n",
            "1 10 4 9 2 3 8 5 7 6\n",
            "1 4 2 3 "
          ]
        }
      ]
    },
    {
      "cell_type": "code",
      "source": [
        "# 이것도 두가지 방법 가능할 듯\n",
        "#백준 10818번"
      ],
      "metadata": {
        "id": "NiJMcsdjrO8L"
      },
      "execution_count": null,
      "outputs": []
    },
    {
      "cell_type": "code",
      "source": [
        "# 첫번째\n",
        "\n",
        "N = int(input())\n",
        "j = list(map(int, input().split()))\n",
        "print(min(j),max(j))"
      ],
      "metadata": {
        "colab": {
          "base_uri": "https://localhost:8080/"
        },
        "id": "LWi92NevrO51",
        "outputId": "38d8f92d-942f-4d76-d905-6ee6938fc897"
      },
      "execution_count": null,
      "outputs": [
        {
          "output_type": "stream",
          "name": "stdout",
          "text": [
            "5\n",
            "20 10 35 30 7\n",
            "7 35\n"
          ]
        }
      ]
    },
    {
      "cell_type": "code",
      "source": [
        "# 두번째\n",
        "\n",
        "N = int(input())\n",
        "j = list(map(int, input().split()))\n",
        "K = []\n",
        "\n",
        "for i in range(N) :\n",
        "  K.append(j[i])\n",
        "\n",
        "print(min(K),max(K))\n"
      ],
      "metadata": {
        "colab": {
          "base_uri": "https://localhost:8080/"
        },
        "id": "IEJNrgsDrO3q",
        "outputId": "bb03bfba-9ab5-4738-87ae-647fd48e317d"
      },
      "execution_count": null,
      "outputs": [
        {
          "output_type": "stream",
          "name": "stdout",
          "text": [
            "5\n",
            "20 10 35 30 7\n",
            "7 35\n"
          ]
        }
      ]
    },
    {
      "cell_type": "code",
      "source": [
        "for i in range(1,10):\n",
        "  A = int(input())\n"
      ],
      "metadata": {
        "colab": {
          "base_uri": "https://localhost:8080/"
        },
        "id": "e-KW89UfrOzS",
        "outputId": "991a8d0b-4c4e-4f19-f68b-8bb17f45f43c"
      },
      "execution_count": null,
      "outputs": [
        {
          "output_type": "stream",
          "name": "stdout",
          "text": [
            "1\n",
            "1\n",
            "2\n",
            "3\n",
            "4\n",
            "5\n",
            "6\n",
            "7\n",
            "8\n",
            "9\n"
          ]
        }
      ]
    },
    {
      "cell_type": "code",
      "source": [
        "A = []\n",
        "\n",
        "for i in range(1,10):\n",
        "  A.append(int(input()))\n",
        "\n",
        "print(max(A))\n",
        "print(A.index(max(A))+1)"
      ],
      "metadata": {
        "colab": {
          "base_uri": "https://localhost:8080/"
        },
        "id": "W-IRknblrOw_",
        "outputId": "3f544383-9d0e-464d-81fc-2a2df14725d8"
      },
      "execution_count": null,
      "outputs": [
        {
          "output_type": "stream",
          "name": "stdout",
          "text": [
            "3\n",
            "29\n",
            "38\n",
            "12\n",
            "57\n",
            "74\n",
            "40\n",
            "85\n",
            "61\n",
            "85\n",
            "8\n"
          ]
        }
      ]
    },
    {
      "cell_type": "code",
      "source": [
        "#나는 for문으로 코드를 짯지만, list comprehension이라는 방법도 있다.\n",
        "\n",
        "numbers = [int(input()) for _ in range(9)]\n",
        "\n",
        "print(max(numbers))\n",
        "print(numbers.index(max(numbers))+1)"
      ],
      "metadata": {
        "colab": {
          "base_uri": "https://localhost:8080/"
        },
        "id": "b_fM39FLrOuy",
        "outputId": "78d5a366-a928-4926-b229-162620261d3a"
      },
      "execution_count": null,
      "outputs": [
        {
          "output_type": "stream",
          "name": "stdout",
          "text": [
            "3\n",
            "29\n",
            "38\n",
            "12\n",
            "57\n",
            "74\n",
            "40\n",
            "85\n",
            "61\n",
            "85\n",
            "8\n"
          ]
        }
      ]
    },
    {
      "cell_type": "code",
      "source": [
        "N, M = map(int, input().split())\n",
        "a = [0 for i in range(N)]\n",
        "\n",
        "for _ in range(M):\n",
        "  i, j, k = map(int, input().split())\n",
        "  a[i:j] = [k]\n",
        "\n",
        "print(a)"
      ],
      "metadata": {
        "id": "886GdttsrOqh",
        "colab": {
          "base_uri": "https://localhost:8080/"
        },
        "outputId": "a93c0f7d-7eab-4a8b-e21e-252d7e2972ab"
      },
      "execution_count": null,
      "outputs": [
        {
          "output_type": "stream",
          "name": "stdout",
          "text": [
            "5 4\n",
            "1 2 3\n",
            "3 4 4\n",
            "1 4 1\n",
            "2 2 2\n",
            "[0, 1, 2, 0]\n"
          ]
        }
      ]
    },
    {
      "cell_type": "code",
      "source": [
        "a = [0 for i in range(4)]\n",
        "a"
      ],
      "metadata": {
        "id": "p6DYPyR3rOoW",
        "colab": {
          "base_uri": "https://localhost:8080/"
        },
        "outputId": "eb77fb64-8b16-42a7-9755-9a28c109a1c0"
      },
      "execution_count": null,
      "outputs": [
        {
          "output_type": "execute_result",
          "data": {
            "text/plain": [
              "[0, 0, 0, 0]"
            ]
          },
          "metadata": {},
          "execution_count": 5
        }
      ]
    },
    {
      "cell_type": "code",
      "source": [
        "N, M = map(int, input().split())\n",
        "a = [0 for i in range(N)]\n",
        "\n",
        "for _ in range(M):\n",
        "  i, j, k = map(int, input().split())\n",
        "  a[i-1:j] = [k for _ in range(i-1, j)]\n",
        "\n",
        "\n",
        "#출력방법\n",
        "for i in a :\n",
        "  print(i , end=' ')"
      ],
      "metadata": {
        "id": "OH8GSbcvrOl7",
        "colab": {
          "base_uri": "https://localhost:8080/"
        },
        "outputId": "7f7aa1ec-7a49-4c9c-f343-8bc7a17f1ce4"
      },
      "execution_count": null,
      "outputs": [
        {
          "output_type": "stream",
          "name": "stdout",
          "text": [
            "5 4\n",
            "1 2 3\n",
            "3 4 4\n",
            "1 4 1\n",
            "2 2 2\n",
            "1 2 1 1 0 "
          ]
        }
      ]
    },
    {
      "cell_type": "code",
      "source": [
        "N = 5\n",
        "a = [0 for i in range(N)]\n",
        "print(a)\n",
        "a[1:3] = 4,\n",
        "a"
      ],
      "metadata": {
        "id": "KjC6HQ5crOj3",
        "colab": {
          "base_uri": "https://localhost:8080/"
        },
        "outputId": "00cffc74-7c11-4d7d-ec9e-b6f5b046f198"
      },
      "execution_count": null,
      "outputs": [
        {
          "output_type": "stream",
          "name": "stdout",
          "text": [
            "[0, 0, 0, 0, 0]\n"
          ]
        },
        {
          "output_type": "execute_result",
          "data": {
            "text/plain": [
              "[0, 4, 0, 0]"
            ]
          },
          "metadata": {},
          "execution_count": 28
        }
      ]
    },
    {
      "cell_type": "code",
      "source": [
        "N, M = map(int, input().split())\n",
        "a = [0 for i in range(N)]\n",
        "\n",
        "for _ in range(M):\n",
        "  i, j, k = map(int, input().split())\n",
        "  a[i-1:j] = [k for _ in range(i-1, j)]\n",
        "\n",
        "\n",
        "#출력방법\n",
        "print(*a, sep=' ')\n",
        "\n",
        "'''\n",
        "파이썬은 *args와 **kwargs를 사용할 수 있는데\n",
        "\n",
        "*과 **로 이를 구별한다.\n",
        "\n",
        "args의 경우는 받아온 것의 값을 나타내며 **kwars는 key와 value로 이루어져 있는 점만 알면 된다.\n",
        "'''"
      ],
      "metadata": {
        "colab": {
          "base_uri": "https://localhost:8080/"
        },
        "id": "97f_pQIrWnxz",
        "outputId": "3a5cc1d0-59f1-4609-ddb0-9b0e3b47339a"
      },
      "execution_count": null,
      "outputs": [
        {
          "output_type": "stream",
          "name": "stdout",
          "text": [
            "5 4\n",
            "1 2 3\n",
            "3 4 4\n",
            "1 4 1\n",
            "2 2 2\n",
            "12110\n"
          ]
        }
      ]
    },
    {
      "cell_type": "code",
      "source": [
        "N, M = map(int, input().split())\n",
        "\n",
        "basket = [i+1 for i in range(N)]\n",
        "for i in range (M) :\n",
        "  i, j= list(map(int, input().split()))\n",
        "  basket[i-1], basket[j-1] = basket[j-1], basket[i-1]\n",
        "\n",
        "print(*basket, sep=' ')"
      ],
      "metadata": {
        "id": "VfEXIaueb9vI",
        "colab": {
          "base_uri": "https://localhost:8080/"
        },
        "outputId": "f62339ba-259d-493e-bda8-6a64aacee1ca"
      },
      "execution_count": null,
      "outputs": [
        {
          "output_type": "stream",
          "name": "stdout",
          "text": [
            "5 4\n",
            "1 2\n",
            "3 4\n",
            "1 4\n",
            "2 2\n",
            "3 1 4 2 5\n"
          ]
        }
      ]
    },
    {
      "cell_type": "code",
      "source": [
        "join = {i for i in range(1,31)}\n",
        "\n",
        "for _ in range(28) :\n",
        "  put = {int(input())}\n",
        "  join = join - put\n",
        "\n",
        "join = sorted(join)\n",
        "print(*join, sep='\\n')"
      ],
      "metadata": {
        "id": "NLU31bL8jPfm"
      },
      "execution_count": null,
      "outputs": []
    },
    {
      "cell_type": "code",
      "source": [
        "#5597 훨씬 좋은 방법\n",
        "join = [i for i in range(1,31)]\n",
        "\n",
        "for _ in range(28) :\n",
        "  put = int(input())\n",
        "  join.remove(put)\n",
        "\n",
        "print(*join, sep=\"\\n\")"
      ],
      "metadata": {
        "id": "W3FVQmA5AJ69"
      },
      "execution_count": null,
      "outputs": []
    },
    {
      "cell_type": "code",
      "source": [
        "nam = set()\n",
        "for _ in range(10) :\n",
        "  A = int(input())\n",
        "  nam.add(A%42)\n",
        "\n",
        "nam = set(nam)\n",
        "print(len(nam))\n",
        "\n",
        "#다른 사람이 푼것도 확인해보기"
      ],
      "metadata": {
        "id": "i-yACG73B3Uv"
      },
      "execution_count": null,
      "outputs": []
    },
    {
      "cell_type": "code",
      "source": [
        "#3052번\n",
        "#나는 세트로 처음부터 만들었는데, 리스트에서 마지막에만 세트로 바꾸는 방법\n",
        "nam = []\n",
        "for _ in range(10) :\n",
        "  a = int(input())\n",
        "  nam.append(a%42)\n",
        "\n",
        "print(len(set(nam)))"
      ],
      "metadata": {
        "id": "G-fWUKiEHAlW"
      },
      "execution_count": null,
      "outputs": []
    },
    {
      "cell_type": "code",
      "source": [
        "nam = []\n",
        "for _ in range(10):\n",
        "  a = int(input())\n",
        "  if a%42 not in nam:\n",
        "    nam.append(a%42)\n",
        "\n",
        "print(len(nam))"
      ],
      "metadata": {
        "id": "B8bg322gJOIF"
      },
      "execution_count": null,
      "outputs": []
    },
    {
      "cell_type": "code",
      "source": [
        "a = [1,2,3,4]\n",
        "a[:] =reversed(a[1:])\n",
        "print(a)"
      ],
      "metadata": {
        "colab": {
          "base_uri": "https://localhost:8080/"
        },
        "id": "-hafeB62MG2E",
        "outputId": "1da31615-11c2-4157-bd4c-4207f405b4eb"
      },
      "execution_count": null,
      "outputs": [
        {
          "output_type": "stream",
          "name": "stdout",
          "text": [
            "[3, 2]\n"
          ]
        }
      ]
    },
    {
      "cell_type": "code",
      "source": [
        "a = [1, 2, 3, 4]\n",
        "a[1:3] = reversed(a[1:3])\n",
        "print(a)\n"
      ],
      "metadata": {
        "colab": {
          "base_uri": "https://localhost:8080/"
        },
        "id": "xQiyvYOzMa5j",
        "outputId": "90f09c44-2780-43b5-8db9-e7ef538af183"
      },
      "execution_count": null,
      "outputs": [
        {
          "output_type": "stream",
          "name": "stdout",
          "text": [
            "[1, 3, 2, 4]\n"
          ]
        }
      ]
    },
    {
      "cell_type": "code",
      "source": [
        "a = [1, 2, 3, 4]\n",
        "a[1:3].reverse()\n",
        "a"
      ],
      "metadata": {
        "colab": {
          "base_uri": "https://localhost:8080/"
        },
        "id": "ylm0vsakSZLz",
        "outputId": "201c5bfe-61e4-42b4-c797-60a52b0cfedf"
      },
      "execution_count": null,
      "outputs": [
        {
          "output_type": "execute_result",
          "data": {
            "text/plain": [
              "[1, 2, 3, 4]"
            ]
          },
          "metadata": {},
          "execution_count": 47
        }
      ]
    },
    {
      "cell_type": "code",
      "source": [
        "N, M = map(int, input().split())\n",
        "basket = [i for i in range(1, N+1)]\n",
        "\n",
        "for _ in range(M) :\n",
        "  i, j = map(int, input().split())\n",
        "  basket = basket[:i-1] + list(reversed(basket[i-1:j])) + basket[j:]\n",
        "\n",
        "print(*basket, sep=' ')"
      ],
      "metadata": {
        "colab": {
          "base_uri": "https://localhost:8080/"
        },
        "id": "7oPzQzQDJvDW",
        "outputId": "cb851fc5-cf3d-4e6f-8018-27ef8a375a9b"
      },
      "execution_count": null,
      "outputs": [
        {
          "output_type": "stream",
          "name": "stdout",
          "text": [
            "5 4\n",
            "1 2\n",
            "3 4\n",
            "1 4\n",
            "2 2\n",
            "3 4 1 2 5\n"
          ]
        }
      ]
    },
    {
      "cell_type": "code",
      "source": [
        "N, M = map(int, input().split())\n",
        "basket = [i for i in range(1, N+1)]\n",
        "\n",
        "for _ in range(M) :\n",
        "  i, j = map(int, input().split())\n",
        "  basket[i-1:j] = list(reversed(basket[i-1:j]))\n",
        "\n",
        "print(*basket, sep=' ')"
      ],
      "metadata": {
        "colab": {
          "base_uri": "https://localhost:8080/"
        },
        "id": "8P4yoSuDMM44",
        "outputId": "13ffcb97-50a6-4635-a94b-d86d4ce3bcf2"
      },
      "execution_count": null,
      "outputs": [
        {
          "output_type": "stream",
          "name": "stdout",
          "text": [
            "5 4\n",
            "1 2\n",
            "3 4\n",
            "1 4\n",
            "2 2\n",
            "3 4 1 2 5\n"
          ]
        }
      ]
    },
    {
      "cell_type": "code",
      "source": [
        "N, M = map(int, input().split())\n",
        "basket = [i for i in range(1, N+1)]\n",
        "\n",
        "for _ in range(M):\n",
        "    i, j = map(int, input().split())\n",
        "    basket[i-1:j] = basket[i-1:j][::-1]\n",
        "\n",
        "print(*basket, sep=' ')"
      ],
      "metadata": {
        "colab": {
          "base_uri": "https://localhost:8080/"
        },
        "id": "N1e5exGDTULa",
        "outputId": "a22a049b-5f38-4663-abd6-d8133d735d09"
      },
      "execution_count": null,
      "outputs": [
        {
          "output_type": "stream",
          "name": "stdout",
          "text": [
            "5 4\n",
            "1 2\n",
            "3 4\n",
            "1 4\n",
            "2 2\n",
            "3 4 1 2 5\n"
          ]
        }
      ]
    },
    {
      "cell_type": "code",
      "source": [
        "N = int(input())\n",
        "score = list(map(int,input().split()))\n",
        "h_score = max(score)\n",
        "re_score = []\n",
        "for i in range(N) :\n",
        "  re_score.append((score[i]/h_score)*100)\n",
        "\n",
        "print(sum(re_score)/N)"
      ],
      "metadata": {
        "id": "D1e6OtmdUNVl",
        "colab": {
          "base_uri": "https://localhost:8080/"
        },
        "outputId": "903310e9-87fb-43e6-9fb1-aa081693b98f"
      },
      "execution_count": null,
      "outputs": [
        {
          "output_type": "stream",
          "name": "stdout",
          "text": [
            "3\n",
            "40 80 60\n",
            "75.0\n"
          ]
        }
      ]
    },
    {
      "cell_type": "code",
      "source": [
        "S = input()\n",
        "i = int(input())\n",
        "\n",
        "print(S[i-1])"
      ],
      "metadata": {
        "colab": {
          "base_uri": "https://localhost:8080/"
        },
        "id": "TbGcitQrPjem",
        "outputId": "56c8f4e4-beed-4114-e866-a724e0f8613f"
      },
      "execution_count": null,
      "outputs": [
        {
          "output_type": "stream",
          "name": "stdout",
          "text": [
            "Baekjoon\n",
            "4\n",
            "k\n"
          ]
        }
      ]
    },
    {
      "cell_type": "code",
      "source": [
        "word = input()\n",
        "print(len(word))"
      ],
      "metadata": {
        "colab": {
          "base_uri": "https://localhost:8080/"
        },
        "id": "YeDV_VsHUyv1",
        "outputId": "2bcac68c-c00a-43ac-9aa8-d2293258e038"
      },
      "execution_count": null,
      "outputs": [
        {
          "output_type": "stream",
          "name": "stdout",
          "text": [
            "pulljima\n",
            "8\n"
          ]
        }
      ]
    },
    {
      "cell_type": "code",
      "source": [
        "N = int(input())\n",
        "\n",
        "for _ in range(N) :\n",
        "  word = input()\n",
        "  print(word[0]+word[-1])"
      ],
      "metadata": {
        "colab": {
          "base_uri": "https://localhost:8080/"
        },
        "id": "t56m8W1iU_JK",
        "outputId": "a61802e7-fa37-4324-84ac-4e30ae222375"
      },
      "execution_count": null,
      "outputs": [
        {
          "output_type": "stream",
          "name": "stdout",
          "text": [
            "3\n",
            "ACDKJFOWIEGHE\n",
            "AE\n",
            "O\n",
            "OO\n",
            "AB\n",
            "AB\n"
          ]
        }
      ]
    },
    {
      "cell_type": "code",
      "source": [
        "print(ord(input()))"
      ],
      "metadata": {
        "colab": {
          "base_uri": "https://localhost:8080/"
        },
        "id": "OyRBYmG_Xvz_",
        "outputId": "73261432-cdb4-4c48-9a15-8a8b30063620"
      },
      "execution_count": null,
      "outputs": [
        {
          "output_type": "stream",
          "name": "stdout",
          "text": [
            "A\n",
            "65\n"
          ]
        }
      ]
    },
    {
      "cell_type": "code",
      "source": [
        "'''\n",
        "try :\n",
        "  a = input()\n",
        "  print(ord(a))\n",
        "except :\n",
        "  print(chr(int(a)))\n",
        "뭐한거지 이건?? 백준 11654번'''\n"
      ],
      "metadata": {
        "id": "rdXnviPDa4Xq"
      },
      "execution_count": null,
      "outputs": []
    },
    {
      "cell_type": "code",
      "source": [
        "#정수를 문자열로 입력받는 문제. Python처럼 정수 크기에 제한이 없다면 상관 없으나, 예제 3은 일반적인 정수 자료형에 담기에 너무 크다는 점에 주목합시다.\n",
        "\n",
        "N = int(input())\n",
        "a = input()\n",
        "s = 0\n",
        "for i in range(N) :\n",
        "  s += int(a[i-1])\n",
        "\n",
        "print(s)"
      ],
      "metadata": {
        "colab": {
          "base_uri": "https://localhost:8080/"
        },
        "id": "dGP9ZFzG_ofj",
        "outputId": "65f66413-d8e6-495e-c2ef-b6e000d3c171"
      },
      "execution_count": null,
      "outputs": [
        {
          "output_type": "stream",
          "name": "stdout",
          "text": [
            "11\n",
            "10987654321\n",
            "46\n"
          ]
        }
      ]
    },
    {
      "cell_type": "code",
      "source": [
        "#한 단어에서 각 알파벳이 처음 등장하는 위치를 찾는 문제\n",
        "\n",
        "S = input()\n",
        "alphabets = \"abcdefghijklmnopqrstuvwxyz\"\n",
        "\n",
        "for i in alphabets :\n",
        "  print(S.find(i))"
      ],
      "metadata": {
        "id": "DDfHL1waCjw6"
      },
      "execution_count": null,
      "outputs": []
    },
    {
      "cell_type": "code",
      "source": [
        "S = input()\n",
        "alpha = range(97,123)\n",
        "\n",
        "for i in alpha:\n",
        "    print(S.find(chr(i)))"
      ],
      "metadata": {
        "id": "_Df1m5tOOuiH"
      },
      "execution_count": null,
      "outputs": []
    },
    {
      "cell_type": "code",
      "source": [
        "#다른 사람 풀이\n",
        "\n",
        "s = input()\n",
        "a = 'abcdefghijklmnopqrstuvwxyz'\n",
        "l = [-1]*26\n",
        "\n",
        "for i in range(len(s)):\n",
        "    if l[a.index(s[i])] == -1:\n",
        "        l[a.index(s[i])] = i\n",
        "\n",
        "for i in range(len(l)):\n",
        "    print(l[i], end=\" \")\n"
      ],
      "metadata": {
        "id": "0cKR0MblPBEd"
      },
      "execution_count": null,
      "outputs": []
    },
    {
      "cell_type": "code",
      "source": [
        "s = input()\n",
        "a = 'abcdefghijklmnopqrstuvwxyz'\n",
        "l = [-1]*26\n",
        "\n",
        "for i in s:\n",
        "    l[a.index(i)]=s.index(i)\n",
        "\n",
        "for i in l:\n",
        "    print(i, end=' ')\n",
        "\n",
        "#s.index(i)이거는 같은 스펠링을 찾더라도 항상 문자열에서 가장 먼저 오는 인덱스를 가져옴"
      ],
      "metadata": {
        "colab": {
          "base_uri": "https://localhost:8080/"
        },
        "id": "qTiwQ3Pykn_w",
        "outputId": "0f1166b6-95ad-4076-ccdd-842c9eb1798c"
      },
      "execution_count": null,
      "outputs": [
        {
          "output_type": "execute_result",
          "data": {
            "text/plain": [
              "2"
            ]
          },
          "metadata": {},
          "execution_count": 5
        }
      ]
    },
    {
      "cell_type": "code",
      "source": [
        "s = input()\n",
        "a = [-1]*26\n",
        "\n",
        "for i in s:\n",
        "    a[ord(i)-97] = s.index(i)\n",
        "for i in a:\n",
        "    print(i, end=\" \")\n",
        "\n",
        "# 'a'의 아스키 넘버는 97임"
      ],
      "metadata": {
        "id": "7KdrhB4Mm3rb"
      },
      "execution_count": null,
      "outputs": []
    },
    {
      "cell_type": "code",
      "source": [
        "#각 문자를 반복하여 출력하는 문제\n",
        "T = int(input())\n",
        "\n",
        "for _ in range(T) :\n",
        "  R, S = map(str, input().split())\n",
        "  for i in range(len(S)):\n",
        "    print((S[i]*int(R)), end=\"\")\n",
        "  print()"
      ],
      "metadata": {
        "id": "I2qI91gGoAGk"
      },
      "execution_count": null,
      "outputs": []
    },
    {
      "cell_type": "code",
      "source": [
        "#각 문자를 반복하여 출력하는 문제\n",
        "\n",
        "T = int(input())\n",
        "\n",
        "for _ in range(T) :\n",
        "  R, S = map(str, input().split())\n",
        "  for i in range(len(S)):\n",
        "    print((S[i]*int(R)), end=\"\")"
      ],
      "metadata": {
        "colab": {
          "base_uri": "https://localhost:8080/"
        },
        "id": "X8YWovee2Js_",
        "outputId": "b3cce6be-a437-4c86-f48a-8fd9d9e1d775"
      },
      "execution_count": null,
      "outputs": [
        {
          "output_type": "stream",
          "name": "stdout",
          "text": [
            "3\n",
            "2 ad\n",
            "aadd4 avc\n",
            "aaaavvvvcccc4 asd\n",
            "aaaassssdddd"
          ]
        }
      ]
    },
    {
      "cell_type": "code",
      "source": [
        "#백준 2675 다른 풀이\n",
        "case = int(input())\n",
        "value = []\n",
        "\n",
        "for i in range(case):\n",
        "    value.append(input().split())\n",
        "\n",
        "\n",
        "for x, y in value:\n",
        "    for z in range(len(y)):\n",
        "        print(y[z]*int(x), end='')\n",
        "    print()"
      ],
      "metadata": {
        "colab": {
          "base_uri": "https://localhost:8080/"
        },
        "id": "x9xkeji7spXh",
        "outputId": "50a44119-f834-4d5c-da06-d86e18e57492"
      },
      "execution_count": null,
      "outputs": [
        {
          "name": "stdout",
          "output_type": "stream",
          "text": [
            "2\n",
            "3 ABC\n",
            "5 /HTP\n"
          ]
        },
        {
          "output_type": "execute_result",
          "data": {
            "text/plain": [
              "[['3', 'ABC'], ['5', '/HTP']]"
            ]
          },
          "metadata": {},
          "execution_count": 42
        }
      ]
    },
    {
      "cell_type": "code",
      "source": [
        "a = int(input())\n",
        "for i in range(a):\n",
        "  b, c = input().split()\n",
        "  for i in range(len(c)):\n",
        "    print(int(b) * c[i], end=\"\")"
      ],
      "metadata": {
        "colab": {
          "base_uri": "https://localhost:8080/"
        },
        "id": "MLzCN1Z6szNw",
        "outputId": "734e0bd4-dec6-4c61-afc4-10fda1f76830"
      },
      "execution_count": null,
      "outputs": [
        {
          "output_type": "stream",
          "name": "stdout",
          "text": [
            "2\n",
            "1 a\n",
            "a\n",
            "2 ab\n",
            "aa\n",
            "bb\n"
          ]
        }
      ]
    },
    {
      "cell_type": "code",
      "source": [
        "#각 문자를 반복하여 출력하는 문제\n",
        "T = int(input())\n",
        "\n",
        "for _ in range(T) :\n",
        "  R, S = map(str, input().split())\n",
        "  for i in range(len(S)):\n",
        "    print((S[i]*int(R)))"
      ],
      "metadata": {
        "colab": {
          "base_uri": "https://localhost:8080/"
        },
        "id": "ePkwwNKhz_I-",
        "outputId": "32905e52-b55e-479c-ab68-3e5f75bfd49e"
      },
      "execution_count": null,
      "outputs": [
        {
          "output_type": "stream",
          "name": "stdout",
          "text": [
            "2\n",
            "3 abc\n",
            "aaa\n",
            "bbb\n",
            "ccc\n",
            "2 ab\n",
            "aa\n",
            "bb\n"
          ]
        }
      ]
    },
    {
      "cell_type": "code",
      "source": [
        "#단어의 개수를 구하는 문제\n",
        "\n",
        "S = input()\n",
        "print(len(S.split()))\n",
        "\n",
        "'''\n",
        "일반적으로 .은 다음과 같은 역할을 합니다:\n",
        "\n",
        "객체의 속성에 접근: 객체가 가지고 있는 변수나 함수 등에 접근할 때 사용됩니다.\n",
        "객체의 메서드 호출: 객체가 가지고 있는 함수를 호출할 때 사용됩니다.'''"
      ],
      "metadata": {
        "id": "FS5leXRi5sjD",
        "colab": {
          "base_uri": "https://localhost:8080/"
        },
        "outputId": "3fe36330-d762-4d3f-e116-e0c7755d0c2a"
      },
      "execution_count": null,
      "outputs": [
        {
          "output_type": "stream",
          "name": "stdout",
          "text": [
            "The last character is a blank \n",
            "6\n"
          ]
        }
      ]
    },
    {
      "cell_type": "code",
      "source": [
        "#알고리즘: 수학\n",
        "#숫자를 뒤집어서 비교하는 문제\n",
        "\n",
        "#A,B = int(input().split())  => input의 값이 1개면 하나의 문자열로 받는데, 2개 이상이면 리스트로 반환함.\n",
        "\n",
        "A,B = map(int, input().split())\n",
        "a = ((A%10)*100) + (((A%100)//10)*10) + (A//100)\n",
        "b = ((B%10)*100) + (((B%100)//10)*10) + (B//100)\n",
        "if a > b :\n",
        "  print(a)\n",
        "else:\n",
        "  print(b)"
      ],
      "metadata": {
        "colab": {
          "base_uri": "https://localhost:8080/"
        },
        "id": "O4stiDk7mkLM",
        "outputId": "03a1992f-f338-4627-e5a2-595e8f0a4984"
      },
      "execution_count": null,
      "outputs": [
        {
          "output_type": "stream",
          "name": "stdout",
          "text": [
            "839 237\n",
            "938\n"
          ]
        }
      ]
    },
    {
      "cell_type": "code",
      "source": [
        "#알고리즘 구현\n",
        "#숫자를 뒤집어서 비교하는 문제\n",
        "\n",
        "A,B = input().split()\n",
        "\n",
        "a = int(A[::-1])\n",
        "b = int(B[::-1])\n",
        "\n",
        "if a > b :\n",
        "  print(a)\n",
        "else:\n",
        "  print(b)"
      ],
      "metadata": {
        "colab": {
          "base_uri": "https://localhost:8080/"
        },
        "id": "MRH-_k9frAbe",
        "outputId": "7dc46e26-bb69-4dff-b575-f82a93f2885b"
      },
      "execution_count": null,
      "outputs": [
        {
          "output_type": "stream",
          "name": "stdout",
          "text": [
            "839 237\n",
            "938\n"
          ]
        }
      ]
    },
    {
      "cell_type": "code",
      "source": [
        "'''\n",
        "문자열 거꾸로 출력하기\n",
        "\n",
        "1. for문\n",
        "\n",
        "s = 'abcde'\n",
        "s_reverse = ''  # 기존 문자열을 역순으로 담아줄 빈 문자열 선언\n",
        "for char in s:\n",
        "    s_reverse = char + s_reverse\n",
        "\n",
        "print(s_reverse)  # edcba\n",
        "\n",
        "2. reverse함수 사용\n",
        "s = 'abcde'\n",
        "s_list = list(s)  # reverse 함수를 사용하기 위해 문자열을 list로 치환\n",
        "s_list.reverse()  # reverse 함수를 사용해 문자열 리스트를 거꾸로 뒤집음\n",
        "\n",
        "print(''.join(s_list))  # 거꾸로 뒤집어진 리스트를 연결해서 출력\n",
        "\n",
        "2-2. reversed 활용\n",
        "s = 'abcde'\n",
        "print(''.join(reversed(s)))  # 'edcba'\n",
        "\n",
        "!!! reversed는 reverse와는 달리 문자열에도 바로 적용이 가능하므로,(reverse는 list에만 사용 가능)\n",
        "\n",
        "3. [::-1]\n",
        "s = 'abcde'\n",
        "print(s[::-1])  # 'edcba'\n",
        "\n",
        "=> 문자열 리스트, 튜플에도 적용 가능\n",
        "'''\n"
      ],
      "metadata": {
        "colab": {
          "base_uri": "https://localhost:8080/"
        },
        "id": "hv9GgN1psrKS",
        "outputId": "68f604e7-0bc8-4125-b319-1108693441dc"
      },
      "execution_count": null,
      "outputs": [
        {
          "output_type": "execute_result",
          "data": {
            "text/plain": [
              "3"
            ]
          },
          "metadata": {},
          "execution_count": 18
        }
      ]
    },
    {
      "cell_type": "code",
      "source": [
        "#규칙에 따라 문자에 대응하는 수를 출력하는 문제\n",
        "\n",
        "S = input()\n",
        "sum = 0\n",
        "\n",
        "dir = {\"A\" : 2, \"B\" : 2, \"C\" : 2, \"D\" : 3, \"E\" : 3, \"F\" : 3, \"G\" : 4, \"H\" : 4, \"I\" : 4, \"J\" : 5, \"K\" : 5, \"L\" : 5, \"M\" : 6, \"N\" : 6, \"O\" : 6, \"P\" : 7, \"Q\" : 7, \"R\" : 7, \"S\" : 7, \"T\" : 8, \"U\" : 8, \"V\" : 8, \"W\" : 9, \"X\" : 9, \"Y\" : 9, \"Z\" : 9}\n",
        "\n",
        "for i in S :\n",
        "  sum += dir[i]+1\n",
        "\n",
        "print(sum)\n"
      ],
      "metadata": {
        "colab": {
          "base_uri": "https://localhost:8080/"
        },
        "id": "vxAiC1K0uA01",
        "outputId": "bff1fc0f-f710-4e83-a674-8dfffdd34309"
      },
      "execution_count": null,
      "outputs": [
        {
          "output_type": "stream",
          "name": "stdout",
          "text": [
            "UNUCIC\n",
            "36\n"
          ]
        }
      ]
    },
    {
      "cell_type": "code",
      "source": [
        "# 딕셔너리로 풀 때 더 나은 방법\n",
        "# 시간이 오래걸려서 비추\n",
        "# 해보니 나는 시간이 동일함\n",
        "\n",
        "dir = {\"ABC\" : 2, 'DEF' : 3, \"GHI\" : 4, \"JKL\" : 5, \"MNO\" : 6,\n",
        "       \"PQRS\" : 7, \"TUV\" : 8, \"WXYZ\" : 9}#쉼표 구분 줄바꿈 가능;\n",
        "\n",
        "S = input()\n",
        "sum = 0\n",
        "\n",
        "for s in S :\n",
        "  for k,v in dir.items():\n",
        "    if s in k:\n",
        "      sum += v+1\n",
        "\n",
        "print(sum)"
      ],
      "metadata": {
        "colab": {
          "base_uri": "https://localhost:8080/"
        },
        "id": "bd8w81mgM_Md",
        "outputId": "b7b74377-1880-48cb-c393-bedee6c47a6b"
      },
      "execution_count": null,
      "outputs": [
        {
          "output_type": "stream",
          "name": "stdout",
          "text": [
            "WA\n",
            "13\n"
          ]
        }
      ]
    },
    {
      "cell_type": "code",
      "source": [
        "#다른 풀이\n",
        "\n",
        "dial = ['ABC', 'DEF', 'GHI', 'JKL', 'MNO', 'PQRS', 'TUV', 'WXYZ']\n",
        "sum = 0\n",
        "S = input()\n",
        "for j in range(len(S)) :\n",
        "  for i in dial :\n",
        "    if S[j] in i:\n",
        "      sum += dial.index(i) + 3\n",
        "\n",
        "print(sum)"
      ],
      "metadata": {
        "colab": {
          "base_uri": "https://localhost:8080/"
        },
        "id": "o6YdC8PLyyqX",
        "outputId": "49a3ee8e-891a-4682-eb63-4fd79104eda0"
      },
      "execution_count": null,
      "outputs": [
        {
          "output_type": "stream",
          "name": "stdout",
          "text": [
            "WA\n",
            "13\n"
          ]
        }
      ]
    },
    {
      "cell_type": "code",
      "source": [
        "#그대로 출력하기\n",
        "'''\n",
        "나의 풀이\n",
        "① 이 문제에서 직관적으로 파악한 것은 '입력값이 몇 번 주어지는지는 모르지만 입력된 값 그대로 출력해야한다는거구나'이다.\n",
        "\n",
        "② 아이디어 열기\n",
        "\n",
        " 입력값이 몇 번 주어지는지는 모르겠는데... 입력값이 그대로 출력해야한다라..\n",
        "\n",
        " try,except 구문을 통해 입력값이 계속 들어오면 그대로 프린트해주고, 입력값이 안들어온다면 즉 EOF(End Of File)상태라면 break를 걸어주도록 하자.\n",
        "\n",
        " 이를 실제 코드에 구현해보면 다음과 같다.\n",
        " while True:\n",
        "    try:\n",
        "        print(input())\n",
        "    except EOFError:\n",
        "        break\n",
        "\n",
        "      #EOF는 end of file !!!!\n",
        " '''\n",
        "while True:\n",
        "  try :\n",
        "    print(input())\n",
        "  except :\n",
        "    break\n",
        "\n",
        "#https://juni-tech.tistory.com/10 stdin.readline()"
      ],
      "metadata": {
        "id": "Po2qbM5gyzul",
        "colab": {
          "base_uri": "https://localhost:8080/"
        },
        "outputId": "6b5ed24b-3e2c-4a71-fc80-9ba8c02e825a"
      },
      "execution_count": null,
      "outputs": [
        {
          "output_type": "stream",
          "name": "stdout",
          "text": [
            "Hello\n",
            "Hello\n",
            "Baekjoon\n",
            "Baekjoon\n",
            "Online Judge\n",
            "Online Judge\n",
            "1\n",
            "1\n",
            "`\n",
            "`\n",
            "finsh\n",
            "finsh\n"
          ]
        }
      ]
    },
    {
      "cell_type": "code",
      "source": [
        "print(\"         ,r'\"'\"7')\n",
        "print(\"r`-_   ,'  ,/\")\n",
        "print(' \\. \"'\". L_r'\")\n",
        "print(\"   `~\\/\")\n",
        "print(\"      |\")\n",
        "print(\"      |\")"
      ],
      "metadata": {
        "id": "F_MwgF8xP3Gc",
        "colab": {
          "base_uri": "https://localhost:8080/"
        },
        "outputId": "27119025-3449-4ce5-cc8a-087d95233825"
      },
      "execution_count": null,
      "outputs": [
        {
          "output_type": "stream",
          "name": "stdout",
          "text": [
            "         ,r'\"7\n",
            "r`-_   ,'  ,/\n",
            " \\. \". L_r'\n",
            "   `~\\/\n",
            "      |\n",
            "      |\n"
          ]
        }
      ]
    },
    {
      "cell_type": "code",
      "source": [
        "chess = [1,1,2,2,2,8]\n",
        "W_C = list(map(int, input().split()))\n",
        "answer = []\n",
        "\n",
        "for i in range(len(chess)) :\n",
        "  answer.append(chess[i] - W_C[i])\n",
        "\n",
        "print(*answer, end=\" \")"
      ],
      "metadata": {
        "colab": {
          "base_uri": "https://localhost:8080/"
        },
        "id": "fuIOBFOtYOJj",
        "outputId": "68f8d11e-e27d-467f-eaed-799834f5c734"
      },
      "execution_count": null,
      "outputs": [
        {
          "output_type": "stream",
          "name": "stdout",
          "text": [
            "2 1 2 1 2 1\n",
            "-1 0 0 1 0 7 "
          ]
        }
      ]
    },
    {
      "cell_type": "code",
      "source": [
        "#다른 사람들은 좀 더 간단하게 풀이했네\n",
        "chess = [1, 1, 2, 2, 2, 8]\n",
        "\n",
        "a = list(map(int, input().split()))\n",
        "\n",
        "for i in range(6):\n",
        "    print(chess[i] - a[i], end=' ')"
      ],
      "metadata": {
        "colab": {
          "base_uri": "https://localhost:8080/"
        },
        "id": "U8V4VxdLdBbv",
        "outputId": "75d8a369-5d5d-4ddd-d513-ab0d284f540d"
      },
      "execution_count": null,
      "outputs": [
        {
          "output_type": "stream",
          "name": "stdout",
          "text": [
            "2 1 2 1 2 1\n",
            "-1 0 0 1 0 7 "
          ]
        }
      ]
    },
    {
      "cell_type": "code",
      "source": [
        "N = int(input())\n",
        "n = 2*N-1\n",
        "a = 1\n",
        "\n",
        "for i in range(n+1) :\n",
        "  if i < N :\n",
        "    print((\"*\"*a).center(n))\n",
        "    a = a+2\n",
        "  elif i == N :\n",
        "    a = a-2\n",
        "  else :\n",
        "    a = a-2\n",
        "    print((\"*\"*a).center(n))"
      ],
      "metadata": {
        "colab": {
          "base_uri": "https://localhost:8080/"
        },
        "id": "hMoxPd28EpDp",
        "outputId": "ae3c1a65-13c4-46a6-e8d3-90ad05e58320"
      },
      "execution_count": null,
      "outputs": [
        {
          "output_type": "stream",
          "name": "stdout",
          "text": [
            "5\n",
            "    *    \n",
            "   ***   \n",
            "  *****  \n",
            " ******* \n",
            "*********\n",
            " ******* \n",
            "  *****  \n",
            "   ***   \n",
            "    *    \n"
          ]
        }
      ]
    },
    {
      "cell_type": "code",
      "source": [
        "N = int(input())\n",
        "n = 2*N-1\n",
        "\n",
        "for i in range(1,N):\n",
        "  print(\" \"*(N-i) + \"*\"*(2*i-1))\n",
        "for i in range(N,0,-1):\n",
        "  print(\" \"*(N-i) + \"*\"*(2*i-1))"
      ],
      "metadata": {
        "colab": {
          "base_uri": "https://localhost:8080/"
        },
        "id": "gSl0oodidFEh",
        "outputId": "89ab4dfc-3119-4d3e-b493-b43a3c09bf35"
      },
      "execution_count": null,
      "outputs": [
        {
          "output_type": "stream",
          "name": "stdout",
          "text": [
            "5\n",
            "    *\n",
            "   ***\n",
            "  *****\n",
            " *******\n",
            "*********\n",
            " *******\n",
            "  *****\n",
            "   ***\n",
            "    *\n"
          ]
        }
      ]
    },
    {
      "cell_type": "code",
      "source": [
        "#리스트로 비교하기\n",
        "\n",
        "s = list(input())\n",
        "s_r = list(reversed(s))\n",
        "\n",
        "if s == s_r :\n",
        "  print(1)\n",
        "else:\n",
        "  print(0)"
      ],
      "metadata": {
        "id": "XdRI2WRYoONA",
        "colab": {
          "base_uri": "https://localhost:8080/"
        },
        "outputId": "3823378f-1c87-4f5d-efb5-c4eaa4605361"
      },
      "execution_count": null,
      "outputs": [
        {
          "output_type": "stream",
          "name": "stdout",
          "text": [
            "baekjoon\n",
            "0\n"
          ]
        }
      ]
    },
    {
      "cell_type": "code",
      "source": [
        "# 반복문으로 비교하기\n",
        "\n",
        "s = input()\n",
        "a = ''\n",
        "for i in s:\n",
        "  a = i + a\n",
        "\n",
        "if s == a:\n",
        "  print(1)\n",
        "else:\n",
        "  print(0)"
      ],
      "metadata": {
        "colab": {
          "base_uri": "https://localhost:8080/"
        },
        "id": "YP_Ib_1e3Ny9",
        "outputId": "abeb8c73-817c-474d-dc2f-8e0aa7043f52"
      },
      "execution_count": null,
      "outputs": [
        {
          "output_type": "stream",
          "name": "stdout",
          "text": [
            "baekjoon\n",
            "0\n"
          ]
        }
      ]
    },
    {
      "cell_type": "code",
      "source": [
        "# 슬라이싱으로 비교하기\n",
        "\n",
        "s = input()\n",
        "\n",
        "if s == s[::-1]:\n",
        "  print(1)\n",
        "else:\n",
        "  print(0)"
      ],
      "metadata": {
        "colab": {
          "base_uri": "https://localhost:8080/"
        },
        "id": "ou1Mvfbn54CS",
        "outputId": "77bc7330-cf8f-45ea-dde1-e3cf9ea46adb"
      },
      "execution_count": null,
      "outputs": [
        {
          "output_type": "stream",
          "name": "stdout",
          "text": [
            "baekjoon\n",
            "0\n"
          ]
        }
      ]
    },
    {
      "cell_type": "code",
      "source": [
        "#주어진 단어에서 가장 많이 사용된 알파벳을 출력하는 문제\n",
        "\n",
        "word = input().upper()\n",
        "word_new = list(set(word))\n",
        "cnt = []\n",
        "\n",
        "for i in word_new :\n",
        "  cnt.append(word.count(i))\n",
        "\n",
        "if cnt.count(max(cnt)) > 1 :\n",
        "  print(\"?\")\n",
        "else:\n",
        "  print(word_new[cnt.index(max(cnt))])"
      ],
      "metadata": {
        "colab": {
          "base_uri": "https://localhost:8080/"
        },
        "id": "AireRoS5jUzW",
        "outputId": "d1a2d7e6-2173-46a6-c659-2e2b009a4f74"
      },
      "execution_count": null,
      "outputs": [
        {
          "output_type": "stream",
          "name": "stdout",
          "text": [
            "#주어진 단어에서 가장 많이 사용된 알파벳을 출력하는 문제  word = input().upper() word_new = list(set(word)) cnt = []  for i in word_new :   cnt.append(word.count(i))  if cnt.count(max(cnt)) >= 2 :   print(\"?\") else:   print(word_new[cnt.index(max(cnt))])\n",
            " \n"
          ]
        }
      ]
    },
    {
      "cell_type": "code",
      "source": [
        "#두세 문자가 한 글자로 묶일 수 있을 때 글자의 수를 세는 문제\n",
        "\n",
        "cr_alph = [\"c=\",\"c-\",\"dz=\",\"d-\",\"lj\",\"nj\",\"s=\",\"z=\"]\n",
        "S = input()\n",
        "\n",
        "for i in cr_alph :\n",
        "  S = S.replace(i,\"*\")\n",
        "\n",
        "print(len(S))"
      ],
      "metadata": {
        "colab": {
          "base_uri": "https://localhost:8080/"
        },
        "id": "syxjO_hE62hz",
        "outputId": "9c1299e7-8ee0-49c2-fbbf-85bf3dee8bb3"
      },
      "execution_count": null,
      "outputs": [
        {
          "output_type": "stream",
          "name": "stdout",
          "text": [
            "nljj\n",
            "3\n"
          ]
        }
      ]
    },
    {
      "cell_type": "code",
      "source": [
        "#조건에 맞는 문자열을 찾는 문제\n",
        "\n",
        "N = int(input())\n",
        "cnt = N\n",
        "\n",
        "for _ in range(N) :\n",
        "  word = input()\n",
        "  for i in range(0,len(word)-1) :\n",
        "    if word[i] == word[i+1] :\n",
        "      pass\n",
        "    elif word[i] in word[i+1:] :\n",
        "      cnt -= 1\n",
        "      break\n",
        "\n",
        "print(cnt)"
      ],
      "metadata": {
        "id": "RUPpQEYApx1U",
        "colab": {
          "base_uri": "https://localhost:8080/"
        },
        "outputId": "832e8b9d-a47d-475e-b54c-f5ad602933cd"
      },
      "execution_count": null,
      "outputs": [
        {
          "output_type": "stream",
          "name": "stdout",
          "text": [
            "9\n",
            "aaa\n",
            "aaazbz\n",
            "babb\n",
            "aazz\n",
            "azbz\n",
            "aabbaa\n",
            "abacc\n",
            "aba\n",
            "zzaz\n",
            "2\n"
          ]
        }
      ]
    },
    {
      "cell_type": "code",
      "source": [
        "#열심히 문제를 푸시는 여러분은 A+입니다.\n",
        "\n",
        "hak = {\"A+\" : 4.5, \"A0\" : 4.0, \"B+\" : 3.5, \"B0\" : 3.0, \"C+\" : 2.5, \"C0\" : 2.0, \"D+\" : 1.5, \"D0\" : 1.0, \"F\" : 0.0}\n",
        "sum = 0\n",
        "hak_s = 0\n",
        "\n",
        "for _ in range(20) :\n",
        "  a,b,c = map(str, input().split())\n",
        "  if c == \"P\":\n",
        "    pass\n",
        "  else:\n",
        "    sum += float(b)*hak[c]\n",
        "    hak_s += float(b)\n",
        "\n",
        "\n",
        "print(sum/hak_s)"
      ],
      "metadata": {
        "colab": {
          "base_uri": "https://localhost:8080/"
        },
        "id": "VcoBUsOM8APg",
        "outputId": "25df938f-7ff1-445f-b01e-6cea439e6d3a"
      },
      "execution_count": null,
      "outputs": [
        {
          "output_type": "stream",
          "name": "stdout",
          "text": [
            "BruteForce 3.0 F\n",
            "Greedy 1.0 F\n",
            "DivideandConquer 2.0 F\n",
            "DynamicProgramming 3.0 F\n",
            "DepthFirstSearch 4.0 F\n",
            "BreadthFirstSearch 3.0 F\n",
            "ShortestPath 4.0 F\n",
            "DisjointSet 2.0 F\n",
            "MinimumSpanningTree 2.0 F\n",
            "TopologicalSorting 1.0 F\n",
            "LeastCommonAncestor 2.0 F\n",
            "SegmentTree 4.0 F\n",
            "EulerTourTechnique 3.0 F\n",
            "StronglyConnectedComponent 2.0 F\n",
            "BipartiteMatching 2.0 F\n",
            "MaximumFlowProblem 3.0 F\n",
            "SuffixArray 1.0 F\n",
            "HeavyLightDecomposition 4.0 F\n",
            "CentroidDecomposition 3.0 F\n",
            "SplayTree 1.0 F\n",
            "0.0\n"
          ]
        }
      ]
    },
    {
      "cell_type": "code",
      "source": [
        "# 다른 사람 풀이\n",
        "\n",
        "rating = ['A+', 'A0', 'B+', 'B0', 'C+', 'C0', 'D+', 'D0', 'F']\n",
        "grade = [4.5, 4.0, 3.5, 3.0, 2.5, 2.0, 1.5, 1.0, 0]\n",
        "\n",
        "total = 0\t# 학점 총합을 담을 변수\n",
        "result = 0\t# (학점 * 과목평점) 총합을 담을 변수\n",
        "for _ in range(20) :\n",
        "    s, p, g = input().split()\n",
        "    p = float(p)\n",
        "    if g != 'P' :\t# 등급이 P인 과목은 계산 안함\n",
        "        total += p\n",
        "        result += p * grade[rating.index(g)]\n",
        "\n",
        "print('%.6f' % (result / total))"
      ],
      "metadata": {
        "id": "ln5I-cfx5ByS"
      },
      "execution_count": null,
      "outputs": []
    },
    {
      "cell_type": "code",
      "source": [
        "#행렬을 2차원 배열로 만들어 더하는 문제\n",
        "A,B = [],[]\n",
        "N, M = map(int, input().split())\n",
        "\n",
        "for _ in range(N) :\n",
        "  a = list(map(int, input().split()))\n",
        "  A.append(a)\n",
        "\n",
        "for _ in range(N) :\n",
        "  b = list(map(int, input().split()))\n",
        "  B.append(b)\n",
        "\n",
        "for row in range(N):\n",
        "  for col in range(M):\n",
        "    print(A[row][col] + B[row][col], end=' ')\n",
        "  print()"
      ],
      "metadata": {
        "id": "VrpSaIhNGNI3"
      },
      "execution_count": null,
      "outputs": []
    },
    {
      "cell_type": "code",
      "source": [
        "#최댓값을 2차원에서 찾는 문제\n",
        "\n",
        "table = [list(map(int, input().split())) for _ in range(9)]\n",
        "\n",
        "num_max = 0\n",
        "row_num, col_num = 0, 0\n",
        "\n",
        "for row in range(9) :\n",
        "  for col in range(9) :\n",
        "    if num_max <= table[row][col] :\n",
        "      num_max = table[row][col]\n",
        "      row_num = row + 1\n",
        "      col_num = col + 1\n",
        "\n",
        "print(num_max)\n",
        "print(row_num, col_num)"
      ],
      "metadata": {
        "id": "NLbfMJOAB0gQ",
        "colab": {
          "base_uri": "https://localhost:8080/"
        },
        "outputId": "dba62388-fd6c-4409-dda0-5e68f30185c1"
      },
      "execution_count": null,
      "outputs": [
        {
          "output_type": "stream",
          "name": "stdout",
          "text": [
            "3 23 85 34 17 74 25 52 65\n",
            "10 7 39 42 88 52 14 72 63\n",
            "87 42 18 78 53 45 18 84 53\n",
            "34 28 64 85 12 16 75 36 55\n",
            "21 77 45 35 28 75 90 76 1\n",
            "25 87 65 15 28 11 37 28 74\n",
            "65 27 75 41 7 89 78 64 39\n",
            "47 47 70 45 23 65 3 41 44\n",
            "87 13 82 38 31 12 29 29 80\n",
            "90\n",
            "5 7\n"
          ]
        }
      ]
    },
    {
      "cell_type": "code",
      "source": [
        "table[0][1]\n",
        "table[1][1]"
      ],
      "metadata": {
        "colab": {
          "base_uri": "https://localhost:8080/"
        },
        "id": "8QVyxRqPdGFu",
        "outputId": "b1c35eb5-22bd-42fd-e6df-a0d17e1f85d5"
      },
      "execution_count": null,
      "outputs": [
        {
          "output_type": "execute_result",
          "data": {
            "text/plain": [
              "7"
            ]
          },
          "metadata": {},
          "execution_count": 8
        }
      ]
    },
    {
      "cell_type": "code",
      "source": [
        "# 문자열의 배열을 다루는 문제\n",
        "\n",
        "length = []\n",
        "words = []\n",
        "answer =''\n",
        "\n",
        "for _ in range(5) :\n",
        "  word = input()\n",
        "  length.append(len(word))\n",
        "  words.append(word)\n",
        "\n",
        "for col in range(max(length)) :\n",
        "  for row in range(5) :\n",
        "    if col < len(words[row]):\n",
        "      answer += words[row][col]\n",
        "\n",
        "print(answer)"
      ],
      "metadata": {
        "colab": {
          "base_uri": "https://localhost:8080/"
        },
        "id": "ncRYnmMDlq5c",
        "outputId": "ecd44e02-9780-4026-bf34-57ef3a979602"
      },
      "execution_count": null,
      "outputs": [
        {
          "output_type": "stream",
          "name": "stdout",
          "text": [
            "ABCDE\n",
            "abcde\n",
            "01234\n",
            "FGHIJ\n",
            "fghij\n",
            "Aa0FfBb1GgCc2HhDd3IiEe4Jj\n"
          ]
        }
      ]
    },
    {
      "cell_type": "code",
      "source": [
        "# 2차원 배열을 활용하여 색종이로 평면을 덮는 문제\n",
        "# 몬테칼로 적분법\n",
        "\n",
        "ary = [[0]*100 for _ in range(100)]\n",
        "result = 0\n",
        "\n",
        "N = int(input())\n",
        "\n",
        "for _ in range(N) :\n",
        "  a,b = map(int, input().split())\n",
        "  for i in range(a,a+10):\n",
        "    for j in range(b,b+10) :\n",
        "      ary[i][j] = 1\n",
        "\n",
        "for i in ary:\n",
        "  result += i.count(1)\n",
        "\n",
        "print(result)"
      ],
      "metadata": {
        "id": "jNpG0E_mfRuB",
        "colab": {
          "base_uri": "https://localhost:8080/"
        },
        "outputId": "421ca1a2-548b-4796-f3e1-ac12e2fa3d6d"
      },
      "execution_count": null,
      "outputs": [
        {
          "output_type": "stream",
          "name": "stdout",
          "text": [
            "3\n",
            "3 7\n",
            "15 7\n",
            "5 2\n",
            "260\n"
          ]
        }
      ]
    },
    {
      "cell_type": "code",
      "source": [
        "# 2차원 배열을 활용하여 색종이로 평면을 덮는 문제\n",
        "# 몬테칼로 적분법\n",
        "\n",
        "ary = [[0]*100 for _ in range(100)]\n",
        "result = 0\n",
        "\n",
        "N = int(input())\n",
        "\n",
        "for _ in range(N) :\n",
        "  a,b = map(int, input().split())\n",
        "  for i in range(a,a+10):\n",
        "    for j in range(b,b+10) :\n",
        "      ary[i][j] = 1\n",
        "\n",
        "for i in range(100):\n",
        "  result += ary[i].count(1)\n",
        "\n",
        "print(result)"
      ],
      "metadata": {
        "colab": {
          "base_uri": "https://localhost:8080/"
        },
        "id": "WcycV-UYtH3c",
        "outputId": "34d49682-5aec-4225-866a-2f19c69dc7ad"
      },
      "execution_count": null,
      "outputs": [
        {
          "output_type": "stream",
          "name": "stdout",
          "text": [
            "3\n",
            "3 7\n",
            "15 7\n",
            "5 2\n",
            "260\n"
          ]
        }
      ]
    },
    {
      "cell_type": "code",
      "source": [
        "#진법에 대해 배우는 문제\n",
        "\n",
        "num_list = \"0123456789ABCDEFGHIJKLMNOPQRSTUVWXYZ\"\n",
        "sum = 0\n",
        "\n",
        "N, B = input().split()\n",
        "for i , num in enumerate(N[::-1]) :\n",
        "  sum += (int(B)**i)*num_list.index(num)\n",
        "\n",
        "print(sum)"
      ],
      "metadata": {
        "id": "kRFKdT7u2yb3",
        "colab": {
          "base_uri": "https://localhost:8080/"
        },
        "outputId": "7025c239-ad8e-4ac0-f911-f73ef9068faa"
      },
      "execution_count": null,
      "outputs": [
        {
          "output_type": "stream",
          "name": "stdout",
          "text": [
            "ZZZZZ 36\n",
            "60466175\n"
          ]
        }
      ]
    },
    {
      "cell_type": "code",
      "source": [
        "#반대 방향으로 진법을 변환하는 문제\n",
        "# // 몫\n",
        "# % 나머지\n",
        "\n",
        "num_list = \"0123456789ABCDEFGHIJKLMNOPQRSTUVWXYZ\"\n",
        "b = []\n",
        "N,B = map(int, input().split())\n",
        "a = N\n",
        "\n",
        "while a != 0 :\n",
        "  a = N // B\n",
        "  b.append(N % B)\n",
        "  N = a\n",
        "\n",
        "for i in b[::-1] :\n",
        "  print(num_list[i], end='')"
      ],
      "metadata": {
        "id": "VDNlAd53mbxi",
        "colab": {
          "base_uri": "https://localhost:8080/"
        },
        "outputId": "278f88d4-0bcd-4498-ac23-3d4cdaa064e2"
      },
      "execution_count": null,
      "outputs": [
        {
          "output_type": "stream",
          "name": "stdout",
          "text": [
            "60466175 36\n",
            "ZZZZZ"
          ]
        }
      ]
    },
    {
      "cell_type": "code",
      "source": [
        "#다른 답안\n",
        "N,B = map(int, input().split())\n",
        "\n",
        "num_list = \"0123456789ABCDEFGHIJKLMNOPQRSTUVWXYZ\"\n",
        "s =''\n",
        "\n",
        "while N: #while문은 0이 아니면 참임\n",
        "  s += num_list[N%B]\n",
        "  N = N//B\n",
        "\n",
        "print(s[::-1])"
      ],
      "metadata": {
        "colab": {
          "base_uri": "https://localhost:8080/"
        },
        "id": "JQepELlk2Xdx",
        "outputId": "92674541-9e7d-42c4-8ee0-348159c199f4"
      },
      "execution_count": null,
      "outputs": [
        {
          "output_type": "stream",
          "name": "stdout",
          "text": [
            "60466175 36\n",
            "ZZZZZ\n"
          ]
        }
      ]
    },
    {
      "cell_type": "code",
      "source": [
        "#반대 방향으로 진법을 변환하는 문제\n",
        "# // 몫\n",
        "# % 나머지\n",
        "# 내 원래 답에서 이렇게 수정하는게 더 좋은 코드인듯\n",
        "\n",
        "num_list = \"0123456789ABCDEFGHIJKLMNOPQRSTUVWXYZ\"\n",
        "b = ''\n",
        "N,B = map(int, input().split())\n",
        "\n",
        "while N != 0 :\n",
        "  b += num_list[N % B]\n",
        "  N = N//B\n",
        "\n",
        "print(b[::-1])"
      ],
      "metadata": {
        "colab": {
          "base_uri": "https://localhost:8080/"
        },
        "id": "-_KgoOTL5k-i",
        "outputId": "1ae2d600-f2f8-41a6-e653-6212b9e512d4"
      },
      "execution_count": null,
      "outputs": [
        {
          "output_type": "stream",
          "name": "stdout",
          "text": [
            "60466175 36\n",
            "ZZZZZ\n"
          ]
        }
      ]
    },
    {
      "cell_type": "code",
      "source": [
        "#반대 방향으로 진법을 변환하는 문제\n",
        "# // 몫\n",
        "# % 나머지\n",
        "#이렇게하니 시간이 더 오래걸림;\n",
        "\n",
        "num_list = \"0123456789ABCDEFGHIJKLMNOPQRSTUVWXYZ\"\n",
        "b = ''\n",
        "N,B = map(int, input().split())\n",
        "\n",
        "while N: #N이 0이 아닌 한 True임\n",
        "  b += num_list[N % B]\n",
        "  N = N//B\n",
        "\n",
        "print(b[::-1])"
      ],
      "metadata": {
        "id": "LddDbjP37_cm"
      },
      "execution_count": null,
      "outputs": []
    },
    {
      "cell_type": "code",
      "source": [
        "# 그리디 알고리즘\n",
        "T = int(input())\n",
        "\n",
        "for _ in range(T) :\n",
        "  cent = int(input())\n",
        "  for i in [25,10,5,1] :\n",
        "    print(cent//i, end=' ')\n",
        "    cent = cent%i\n",
        "  print()"
      ],
      "metadata": {
        "colab": {
          "base_uri": "https://localhost:8080/"
        },
        "id": "sdEzXJGwTahU",
        "outputId": "f842a02e-e430-4b10-f9db-457a3ef4db5f"
      },
      "execution_count": null,
      "outputs": [
        {
          "output_type": "stream",
          "name": "stdout",
          "text": [
            "3\n",
            "124\n",
            "4 2 0 4 \n",
            "25\n",
            "1 0 0 0 \n",
            "194\n",
            "7 1 1 4 \n"
          ]
        }
      ]
    },
    {
      "cell_type": "code",
      "source": [
        "# 그리디 알고리즘\n",
        "T = int(input())\n",
        "\n",
        "for _ in range(T) :\n",
        "  cent = int(input())\n",
        "  for i in [25,10,5,1] :\n",
        "    print(cent//i, end=' ')\n",
        "    cent = cent%i"
      ],
      "metadata": {
        "colab": {
          "base_uri": "https://localhost:8080/"
        },
        "id": "KT_sGeJiVlGf",
        "outputId": "d1a248aa-a158-4a5f-dde5-1cdfee9610cb"
      },
      "execution_count": null,
      "outputs": [
        {
          "output_type": "stream",
          "name": "stdout",
          "text": [
            "3\n",
            "124\n",
            "4 2 0 4 25\n",
            "1 0 0 0 194\n",
            "7 1 1 4 "
          ]
        }
      ]
    },
    {
      "cell_type": "code",
      "source": [
        "# 중앙 이동 알고리즘\n",
        "# 둘씩 반복해서 나눴을 때 점의 개수를 세는 문제\n",
        "# 한 변에 놓일 점의 개수를 구한 뒤 제곱하면 된다.\n",
        "\n",
        "N = int(input())\n",
        "print((1+(2**N))**2)\n"
      ],
      "metadata": {
        "id": "w7EVLk7DWCjd",
        "colab": {
          "base_uri": "https://localhost:8080/"
        },
        "outputId": "6b3afc27-da37-47bc-a32d-58d75716ec49"
      },
      "execution_count": null,
      "outputs": [
        {
          "output_type": "stream",
          "name": "stdout",
          "text": [
            "1\n",
            "9\n"
          ]
        }
      ]
    },
    {
      "cell_type": "code",
      "source": [
        "# 벌집\n",
        "# 벌집이 형성되는 규칙에 따라 벌집의 위치를 구하는 문제\n",
        "\n",
        "N = int(input())\n",
        "box = 1\n",
        "cnt = 1\n",
        "\n",
        "while N > box :\n",
        "  box += cnt*6\n",
        "  cnt += 1\n",
        "print(cnt)"
      ],
      "metadata": {
        "id": "7Ey37zDBPeVk"
      },
      "execution_count": null,
      "outputs": []
    },
    {
      "cell_type": "code",
      "source": [
        "# 분수찾기\n",
        "# 분수의 순서에서 규칙을 찾는 문제\n",
        "\n",
        "X = int(input())\n",
        "line = 1\n",
        "\n",
        "while X > line :\n",
        "  X -= line\n",
        "  line += 1\n",
        "\n",
        "if line % 2 == 0:\n",
        "  #분자는 a, 분모는 b\n",
        "  a = X\n",
        "  b = line - (X-1)\n",
        "else:\n",
        "  a = line - (X-1)\n",
        "  b = X\n",
        "\n",
        "print(f\"{a}/{b}\")"
      ],
      "metadata": {
        "colab": {
          "base_uri": "https://localhost:8080/"
        },
        "id": "qxiGDH-2lAR_",
        "outputId": "989d112b-b0e0-4793-ad6b-a06ef50abdc4"
      },
      "execution_count": null,
      "outputs": [
        {
          "output_type": "stream",
          "name": "stdout",
          "text": [
            "3\n",
            "2/1\n"
          ]
        }
      ]
    },
    {
      "cell_type": "code",
      "source": [
        "# 달팽이는 올라가고 싶다.\n",
        "# 달팽이의 움직임을 계산하는 문제\n",
        "# 시간 제한이 0.25초 이므로 반복문을 사용하면 안된다는 소리\n",
        "\n",
        "A,B,V = map(int, input().split())\n",
        "\n",
        "if (V-B)%(A-B) == 0:\n",
        "  x = (V-B)/(A-B)\n",
        "else:\n",
        "  x = (V-B)//(A-B)+1\n",
        "\n",
        "print(int(x))"
      ],
      "metadata": {
        "colab": {
          "base_uri": "https://localhost:8080/"
        },
        "id": "V-diY_sQnWcL",
        "outputId": "d196ab93-88dd-4078-9d4e-c146688ac74f"
      },
      "execution_count": null,
      "outputs": [
        {
          "output_type": "stream",
          "name": "stdout",
          "text": [
            "2 1 5\n",
            "4\n"
          ]
        }
      ]
    },
    {
      "cell_type": "code",
      "source": [
        "# ceil함수는 실수를 입력하면 올림 하여 정수를 반환하는 함수\n",
        "# 정수는 그대로 반환하고 소수점이 존재하면 반올림\n",
        "\n",
        "import math\n",
        "A,B,V = map(int, input().split())\n",
        "\n",
        "day = math.ceil((V-B)/(A-B))\n",
        "print(day)"
      ],
      "metadata": {
        "colab": {
          "base_uri": "https://localhost:8080/"
        },
        "id": "_eofcCowrKt4",
        "outputId": "2e543f80-56bb-4b03-f681-8c53b2bbc86d"
      },
      "execution_count": null,
      "outputs": [
        {
          "output_type": "stream",
          "name": "stdout",
          "text": [
            "2 1 5\n",
            "4\n"
          ]
        }
      ]
    },
    {
      "cell_type": "markdown",
      "source": [
        "# 9단계 약수,배수와 소수\n",
        "약수와 배수는 정수론의 시작점이라고 할 수 있습니다."
      ],
      "metadata": {
        "id": "dJ82p3bMKSq2"
      }
    },
    {
      "cell_type": "code",
      "source": [
        "#배수와 약수\n",
        "# '배수와 약수를 배우는 문제'\n"
      ],
      "metadata": {
        "colab": {
          "base_uri": "https://localhost:8080/",
          "height": 35
        },
        "id": "p36l5rZIKV1s",
        "outputId": "244417fe-c46e-4413-b226-59ff9b366344"
      },
      "execution_count": null,
      "outputs": [
        {
          "output_type": "execute_result",
          "data": {
            "text/plain": [
              "'배수와 약수를 배우는 문제'"
            ],
            "application/vnd.google.colaboratory.intrinsic+json": {
              "type": "string"
            }
          },
          "metadata": {},
          "execution_count": 1
        }
      ]
    },
    {
      "cell_type": "code",
      "source": [
        "while True:\n",
        "  A,B = map(int,input().split())\n",
        "  if A != B:\n",
        "    if B%A ==0:\n",
        "      print(\"factor\")\n",
        "    elif A%B == 0:\n",
        "      print(\"multiple\")\n",
        "    else:\n",
        "      print(\"neither\")\n",
        "  else:\n",
        "    break"
      ],
      "metadata": {
        "colab": {
          "base_uri": "https://localhost:8080/"
        },
        "id": "QBcBOElTL1PI",
        "outputId": "969f0fad-a73f-4836-ac4e-0a3535a61721"
      },
      "execution_count": null,
      "outputs": [
        {
          "name": "stdout",
          "output_type": "stream",
          "text": [
            "8 16\n",
            "factor\n",
            "32 4\n",
            "multiple\n",
            "17 5\n",
            "neither\n",
            "0 0\n"
          ]
        }
      ]
    },
    {
      "cell_type": "code",
      "source": [
        "#약수 구하기\n",
        "# 주어진 수의 약수를 구하는 문제"
      ],
      "metadata": {
        "id": "j6B8KqQlThyS"
      },
      "execution_count": null,
      "outputs": []
    },
    {
      "cell_type": "code",
      "source": [
        "N,K = map(int,input().split())\n",
        "\n",
        "answer = []\n",
        "for i in range(1,N+1):\n",
        "  if N % i == 0 :\n",
        "    answer.append(i)\n",
        "\n",
        "if len(answer) >= K :\n",
        "  print(answer[K-1])\n",
        "else:\n",
        "  print(0)"
      ],
      "metadata": {
        "colab": {
          "base_uri": "https://localhost:8080/"
        },
        "id": "-XAKwYwnUX8d",
        "outputId": "068891ed-17d4-4f77-c4a3-10e74a9c6cc2"
      },
      "execution_count": null,
      "outputs": [
        {
          "output_type": "stream",
          "name": "stdout",
          "text": [
            "2735 1\n",
            "1\n"
          ]
        }
      ]
    },
    {
      "cell_type": "code",
      "source": [
        "#다른 풀이\n",
        "# N//2+1는 N의 약수는 N//2만 확인해도 충분하기 때문에 : 모든 약수는 N/2이하에 있다. 예시로 12의 절반인 6보다 큰 약수는 자기 자신 뿐\n",
        "N, K = map(int, input().split())\n",
        "\n",
        "count = 0\n",
        "for i in range(1, N//2 + 1):\n",
        "  if N % i == 0:\n",
        "    count += 1\n",
        "    if count == K:\n",
        "      print(i)\n",
        "      break\n",
        "\n",
        "if count + 1 == K:\n",
        "  print(N)\n",
        "elif count != K:\n",
        "  print(0)"
      ],
      "metadata": {
        "colab": {
          "base_uri": "https://localhost:8080/"
        },
        "id": "VoX_UZ2-X0h8",
        "outputId": "73af94ef-e7be-4d07-a664-d42556d6a427"
      },
      "execution_count": null,
      "outputs": [
        {
          "output_type": "stream",
          "name": "stdout",
          "text": [
            "6 3\n",
            "3\n"
          ]
        }
      ]
    },
    {
      "cell_type": "code",
      "source": [
        "# 약수들의 합\n",
        " # 약수를 구하면서 주어진 수가 완전수인지 판별하는 문제\n",
        "\n",
        "while 1:\n",
        "  n = int(input())\n",
        "  cost = []\n",
        "  if n != -1:\n",
        "    for i in range(1, n//2+1):\n",
        "      if n % i == 0:\n",
        "        cost.append(i)\n",
        "    if sum(cost) == n:\n",
        "      print(f\"{n} =\",' + '.join(map(str,cost)))\n",
        "    else:\n",
        "      print(f\"{n} is NOT perfect.\")\n",
        "  else:\n",
        "    break"
      ],
      "metadata": {
        "id": "24aSthLoa7FN",
        "colab": {
          "base_uri": "https://localhost:8080/"
        },
        "outputId": "12391fbe-457b-490d-a033-a7ad25d55d2a"
      },
      "execution_count": null,
      "outputs": [
        {
          "name": "stdout",
          "output_type": "stream",
          "text": [
            "6\n",
            "6 = 1 + 2 + 3\n",
            "12\n",
            "12 is NOT perfect.\n",
            "28\n",
            "28 = 1 + 2 + 4 + 7 + 14\n",
            "-1\n"
          ]
        }
      ]
    },
    {
      "cell_type": "code",
      "source": [
        "# 소수 찾기\n",
        " # 2부터 x-1까지 모두 나눠서 x가 소수인지 판별하는 문제 1\n",
        "\n",
        "N = int(input())\n",
        "nums = list(map(int,input().split()))\n",
        "result = 0\n",
        "\n",
        "for num in nums:\n",
        "  if num > 1:\n",
        "    cnt = 0\n",
        "    for i in range(2,num):\n",
        "      if num%i==0:\n",
        "        cnt += 1\n",
        "    if cnt ==0:\n",
        "      result += 1\n",
        "\n",
        "print(result)"
      ],
      "metadata": {
        "colab": {
          "base_uri": "https://localhost:8080/"
        },
        "id": "xl36tFb2NNmP",
        "outputId": "b978aeca-054a-4e8d-b628-15e02c1696a7"
      },
      "execution_count": null,
      "outputs": [
        {
          "output_type": "stream",
          "name": "stdout",
          "text": [
            "4\n",
            "1 3 5 7\n",
            "3\n"
          ]
        }
      ]
    },
    {
      "cell_type": "code",
      "source": [
        "import math\n",
        "\n",
        "def is_prime(a):    #소수 구하는 함수\n",
        "    if a == 1:\n",
        "        return 0\n",
        "    for i in range(2, int(math.sqrt(a)) + 1):   #2부터 그 숫자의 제곱근까지 검사\n",
        "        if a % i == 0:\n",
        "            return 0\n",
        "    return 1\n",
        "\n",
        "M, N = map(int, input().split())    #문제 입력\n",
        "\n",
        "for i in range(M, N+1): #M 부터 N까지 소수인지 검사\n",
        "    if is_prime(i):\n",
        "        print(i)"
      ],
      "metadata": {
        "id": "3srjBchWUuya"
      },
      "execution_count": null,
      "outputs": []
    },
    {
      "cell_type": "code",
      "source": [
        "#이런 방법도 있\n",
        "#약수의 대칭성\n",
        "'''어떤 수 n의 약수는 대칭적으로 나타난다. 즉, n의 약수 쌍을 곱했을 때 n이 되는\n",
        "두 수로 구성되며, 이 쌍 중 하나는 항상 루트n이하여야 한다.'''\n",
        "\n",
        "import math\n",
        "\n",
        "N = int(input())\n",
        "nums = list(map(int, input().split()))\n",
        "result = 0\n",
        "\n",
        "def is_prime(num):\n",
        "    if num <= 1:\n",
        "        return False\n",
        "    for i in range(2, int(math.sqrt(num)) + 1):\n",
        "        if num % i == 0:\n",
        "            return False\n",
        "    return True\n",
        "\n",
        "for num in nums:\n",
        "    if is_prime(num):\n",
        "        result += 1\n",
        "\n",
        "print(result)\n"
      ],
      "metadata": {
        "colab": {
          "base_uri": "https://localhost:8080/"
        },
        "id": "OcloZcMcXzQb",
        "outputId": "a1943aee-cbeb-409e-9221-a8a7f0b61221"
      },
      "execution_count": null,
      "outputs": [
        {
          "output_type": "stream",
          "name": "stdout",
          "text": [
            "4\n",
            "1 3 5 7\n",
            "3\n"
          ]
        }
      ]
    },
    {
      "cell_type": "code",
      "source": [
        "# 소수\n",
        " # 2부터 x-1까지 모두 나눠서 x가 소수인지 판별하는 문제 2\n",
        "\n",
        "M = int(input())\n",
        "N = int(input())\n",
        "result = []\n",
        "\n",
        "for a in range(M,N+1) :\n",
        "  cnt = 0\n",
        "  if a > 1 :\n",
        "    for i in range(2,a):\n",
        "      if a%i == 0:\n",
        "        cnt += 1\n",
        "    if cnt == 0:\n",
        "      result.append(a)\n",
        "\n",
        "if len(result) > 0 :\n",
        "  print(sum(result))\n",
        "  print(min(result))\n",
        "else:\n",
        "  print(-1)"
      ],
      "metadata": {
        "colab": {
          "base_uri": "https://localhost:8080/"
        },
        "id": "xZT8i9_J_Ybe",
        "outputId": "7c620e6e-f8d8-4b2e-ac82-2426679e9c34"
      },
      "execution_count": null,
      "outputs": [
        {
          "output_type": "stream",
          "name": "stdout",
          "text": [
            "64\n",
            "65\n",
            "-1\n"
          ]
        }
      ]
    },
    {
      "cell_type": "code",
      "source": [
        "# 소인수 분해\n",
        "# N을 소인수분해하는 문제\n",
        "\n",
        "N = int(input())\n",
        "result = []\n",
        "if N == 0:\n",
        "  break\n",
        "else:\n",
        "  for i in range(2,N):\n",
        "    if N%i == 0 :\n",
        "      result.append(i)\n",
        "      N = N%i\n"
      ],
      "metadata": {
        "id": "eua9VEAF_r-y"
      },
      "execution_count": null,
      "outputs": []
    },
    {
      "cell_type": "code",
      "source": [
        "N = int(input())\n",
        "\n",
        "if N == 1:\n",
        "  print('')\n",
        "else:\n",
        "  for i in range(2,N+1):\n",
        "      while N % i == 0:\n",
        "        print(i)\n",
        "        N = N // i\n"
      ],
      "metadata": {
        "colab": {
          "base_uri": "https://localhost:8080/"
        },
        "id": "fm40tkwfKJG7",
        "outputId": "f6e35f89-87f7-496d-d76a-370d94a0d787"
      },
      "execution_count": null,
      "outputs": [
        {
          "output_type": "stream",
          "name": "stdout",
          "text": [
            "9991\n",
            "97\n",
            "103\n"
          ]
        }
      ]
    },
    {
      "cell_type": "code",
      "source": [
        "#기하: 직사각형과 삼각형\n",
        " # 직사각형\n",
        "   # 직사각형의 넓이를 구하는 문제\n",
        "\n",
        "A = int(input())\n",
        "B = int(input())\n",
        "\n",
        "print(A*B)"
      ],
      "metadata": {
        "id": "Oo9aBnLLMxT6",
        "colab": {
          "base_uri": "https://localhost:8080/"
        },
        "outputId": "2edd8830-1482-4d64-ea90-3bd8c0364bb2"
      },
      "execution_count": null,
      "outputs": [
        {
          "output_type": "stream",
          "name": "stdout",
          "text": [
            "4\n",
            "4\n",
            "16\n"
          ]
        }
      ]
    },
    {
      "cell_type": "code",
      "source": [
        "# 직사각형에서 탈출\n",
        " # 직사각형과 점의 거리를 구하는 문제\n",
        "\n",
        "x,y,w,h = map(int, input().split())\n",
        "\n",
        "result = []\n",
        "\n",
        "result.append(w-x)\n",
        "result.append(h-y)\n",
        "result.append(x)\n",
        "result.append(y)\n",
        "\n",
        "\n",
        "print(min(result))"
      ],
      "metadata": {
        "colab": {
          "base_uri": "https://localhost:8080/"
        },
        "id": "Uf_zNRkik3V2",
        "outputId": "4e96d727-9fa4-4753-a1af-651a5ffe6355"
      },
      "execution_count": null,
      "outputs": [
        {
          "output_type": "stream",
          "name": "stdout",
          "text": [
            "161 181 762 375\n",
            "161\n"
          ]
        }
      ]
    },
    {
      "cell_type": "code",
      "source": [
        "x,y,w,h = map(int, input().split())\n",
        "print(min(x,y,w-x,h-y))"
      ],
      "metadata": {
        "colab": {
          "base_uri": "https://localhost:8080/"
        },
        "id": "ANBWbJjTnKGR",
        "outputId": "c742645e-2e12-48ab-b937-1f64af7c7080"
      },
      "execution_count": null,
      "outputs": [
        {
          "output_type": "stream",
          "name": "stdout",
          "text": [
            "6 2 10 3\n",
            "1\n"
          ]
        }
      ]
    },
    {
      "cell_type": "code",
      "source": [
        "# 네 번째 점\n",
        " # 직사각형을 완성하는 문제\n",
        "\n",
        "x_nums = []\n",
        "y_nums = []\n",
        "\n",
        "for _ in range(3) :\n",
        "  x,y = map(int, input().split())\n",
        "  x_nums.append(x)\n",
        "  y_nums.append(y)\n",
        "\n",
        "for i in range(3) :\n",
        "  if x_nums.count(x_nums[i]) == 1:\n",
        "    x_nums.append(x_nums[i])\n",
        "  if y_nums.count(y_nums[i]) == 1:\n",
        "    y_nums.append(y_nums[i])\n",
        "\n",
        "print(x_nums[3], y_nums[3])"
      ],
      "metadata": {
        "id": "Ixm29tdtnuEk",
        "colab": {
          "base_uri": "https://localhost:8080/"
        },
        "outputId": "048d4d88-1945-41ff-8d34-e77707ad84e7"
      },
      "execution_count": null,
      "outputs": [
        {
          "output_type": "stream",
          "name": "stdout",
          "text": [
            "30 20\n",
            "10 10\n",
            "10 20\n",
            "30 10\n"
          ]
        }
      ]
    },
    {
      "cell_type": "code",
      "source": [
        "# 수학은 체육과목입니다.\n",
        " # 피라미드 모양 도형의 둘레를 구하는 문제\n",
        "\n",
        "x = int(input())\n",
        "\n",
        "print(x*4)"
      ],
      "metadata": {
        "id": "XnRfjXpNFfzG"
      },
      "execution_count": null,
      "outputs": []
    },
    {
      "cell_type": "code",
      "source": [
        "# 대지\n",
        " # 옥구슬을 모두 포함하는 직사각형을 찾는 문제\n",
        "\n",
        "N = int(input())\n",
        "x_nums = []\n",
        "y_nums = []\n",
        "\n",
        "for _ in range(N) :\n",
        "  x,y = map(int, input().split())\n",
        "  x_nums.append(x)\n",
        "  y_nums.append(y)\n",
        "\n",
        "x_length = max(x_nums) - min(x_nums)\n",
        "y_length = max(y_nums) - min(y_nums)\n",
        "print(x_length * y_length)"
      ],
      "metadata": {
        "colab": {
          "base_uri": "https://localhost:8080/"
        },
        "id": "pVlS4Zf2HVgE",
        "outputId": "aa4db6df-73d2-4288-c288-d2e52c067f40"
      },
      "execution_count": null,
      "outputs": [
        {
          "output_type": "stream",
          "name": "stdout",
          "text": [
            "4\n",
            "2 1\n",
            "3 2\n",
            "5 2\n",
            "3 4\n",
            "9\n"
          ]
        }
      ]
    },
    {
      "cell_type": "code",
      "source": [
        "# 삼각형 외우기\n",
        "# 각도를 보고 삼각형을 판별하고 분류하는 문제\n",
        "\n",
        "angle = []\n",
        "\n",
        "for _ in range(3) :\n",
        "  angle.append(int(input()))\n",
        "\n",
        "if angle.count(60) == 3:\n",
        "  print('Equilateral')\n",
        "elif sum(angle) == 180:\n",
        "    if angle[0] == angle[1] or angle[0] == angle[2] or angle[1] == angle[2]:\n",
        "      print('Isosceles')\n",
        "    else :\n",
        "      print('Scalene')\n",
        "else:\n",
        "  print('Error')"
      ],
      "metadata": {
        "colab": {
          "base_uri": "https://localhost:8080/"
        },
        "id": "AlZ2gMAQKJD6",
        "outputId": "b0e4ec55-417c-433c-b0bd-57fe8004af5f"
      },
      "execution_count": null,
      "outputs": [
        {
          "output_type": "stream",
          "name": "stdout",
          "text": [
            "60\n",
            "70\n",
            "50\n",
            "Scalene\n"
          ]
        }
      ]
    },
    {
      "cell_type": "code",
      "source": [
        "# 나와 다른 풀이\n",
        "A = int(input())\n",
        "B = int(input())\n",
        "C = int(input())\n",
        "\n",
        "if A == B == C == 60 :\n",
        "  print('Equilateral')\n",
        "elif A+B+C == 180:\n",
        "  if A == B or A == C or B == C:\n",
        "    print('Isosceles')\n",
        "  else:\n",
        "    print('Scalene')\n",
        "else:\n",
        "  print('Error')"
      ],
      "metadata": {
        "colab": {
          "base_uri": "https://localhost:8080/"
        },
        "id": "QJKNqbJXMX4B",
        "outputId": "44fc123b-ba19-407c-bec8-42d454a114fc"
      },
      "execution_count": null,
      "outputs": [
        {
          "output_type": "stream",
          "name": "stdout",
          "text": [
            "60\n",
            "70\n",
            "50\n",
            "Scalene\n"
          ]
        }
      ]
    },
    {
      "cell_type": "code",
      "source": [
        "# 삼각형과 세 변\n",
        "# 변의 길이를 보고 삼각형을 판별하고 분류하는 문제\n",
        "\n",
        "while 1:\n",
        "  a,b,c = map(int, input().split())\n",
        "  length = []\n",
        "  length.append(a)\n",
        "  length.append(b)\n",
        "  length.append(c)\n",
        "  if max(length) < sum(length)-max(length):\n",
        "    if a==b==c:\n",
        "     print('Equilateral')\n",
        "    elif a==b or a == c or b==c:\n",
        "     print('Isosceles')\n",
        "    else:\n",
        "      print('Scalene')\n",
        "  else:\n",
        "    print('Invalid')\n",
        "  if a==b==c==0:\n",
        "    break"
      ],
      "metadata": {
        "id": "DSxe3ShYP6eE",
        "colab": {
          "base_uri": "https://localhost:8080/"
        },
        "collapsed": true,
        "outputId": "26cc1efb-a725-43de-9763-d42bc542dafc"
      },
      "execution_count": null,
      "outputs": [
        {
          "output_type": "stream",
          "name": "stdout",
          "text": [
            "0 0 0\n",
            "Invalid\n"
          ]
        }
      ]
    },
    {
      "cell_type": "code",
      "source": [
        "while 1:\n",
        "  a,b,c = map(int, input().split())\n",
        "  length = []\n",
        "  length.append(a)\n",
        "  length.append(b)\n",
        "  length.append(c)\n",
        "  if a==b==c==0:\n",
        "    break\n",
        "  elif  max(length) < sum(length)-max(length):\n",
        "    if a==b==c:\n",
        "     print('Equilateral')\n",
        "    elif a==b or a == c or b==c:\n",
        "     print('Isosceles')\n",
        "    else:\n",
        "      print('Scalene')\n",
        "  else:\n",
        "    print('Invalid')"
      ],
      "metadata": {
        "colab": {
          "base_uri": "https://localhost:8080/"
        },
        "id": "tr4mZ-2z5Jm_",
        "outputId": "10285838-b0ea-4996-ee41-b30c60efe63e"
      },
      "execution_count": null,
      "outputs": [
        {
          "name": "stdout",
          "output_type": "stream",
          "text": [
            "7 7 7\n",
            "Equilateral\n",
            "6 5 4\n",
            "Scalene\n",
            "3 2 5\n",
            "Invalid\n",
            "6 2 6\n",
            "Isosceles\n",
            "0 0 0\n"
          ]
        }
      ]
    },
    {
      "cell_type": "code",
      "source": [
        "# 세 막대\n",
        "# 가능한 한 둘레가 긴 삼각형을 만드는 문제\n",
        "\n",
        "circle= list(map(int, input().split()))\n",
        "circle = sorted(circle)\n",
        "\n",
        "if circle[0]+circle[1] > circle[2]:\n",
        "  print(sum(circle))\n",
        "else:\n",
        "  print(circle[0] + circle[1]+(circle[0]+circle[1]-1))"
      ],
      "metadata": {
        "id": "ZZr7ufJ0Lw1G"
      },
      "execution_count": null,
      "outputs": []
    },
    {
      "cell_type": "code",
      "source": [
        "# 시간 복잡도\n",
        "'''프로그램의 정확한 실행 시간을 예측하기는 매우 어렵습니다.\n",
        "하지만 시간 복잡도를 사용하여 대략적인 예측은 가능합니다.'''"
      ],
      "metadata": {
        "id": "7dKj01J1PXj7"
      },
      "execution_count": null,
      "outputs": []
    },
    {
      "cell_type": "code",
      "source": [
        "# 알고리즘 수업- 알고리즘의 수행 1\n",
        "# 프로그램의 수행 시간을 분석해 봅시다.\n",
        "\n",
        "https://kevinitcoding.tistory.com/entry/%EB%B0%B1%EC%A4%80Python-24262%EB%B2%88-%EC%95%8C%EA%B3%A0%EB%A6%AC%EC%A6%98-%EC%88%98%EC%97%85-%EC%95%8C%EA%B3%A0%EB%A6%AC%EC%A6%98%EC%9D%98-%EC%88%98%ED%96%89-%EC%8B%9C%EA%B0%84-1-%EB%AC%B8%EC%A0%9C"
      ],
      "metadata": {
        "colab": {
          "base_uri": "https://localhost:8080/",
          "height": 110
        },
        "id": "tge_maXaPoQJ",
        "outputId": "6c6fa86e-5b7d-4fe0-96ce-03c3375f3076"
      },
      "execution_count": null,
      "outputs": [
        {
          "output_type": "error",
          "ename": "SyntaxError",
          "evalue": "invalid character '⌊' (U+230A) (<ipython-input-26-f0335a56ad29>, line 5)",
          "traceback": [
            "\u001b[0;36m  File \u001b[0;32m\"<ipython-input-26-f0335a56ad29>\"\u001b[0;36m, line \u001b[0;32m5\u001b[0m\n\u001b[0;31m    i = ⌊n / 2⌋;\u001b[0m\n\u001b[0m        ^\u001b[0m\n\u001b[0;31mSyntaxError\u001b[0m\u001b[0;31m:\u001b[0m invalid character '⌊' (U+230A)\n"
          ]
        }
      ]
    },
    {
      "cell_type": "code",
      "source": [],
      "metadata": {
        "id": "DDw0ldu7R1x5"
      },
      "execution_count": null,
      "outputs": []
    }
  ]
}